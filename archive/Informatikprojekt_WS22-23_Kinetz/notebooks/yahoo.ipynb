{
 "cells": [
  {
   "cell_type": "markdown",
   "id": "45a8921f-5421-45f8-9dcd-14d38cfb9cba",
   "metadata": {},
   "source": [
    "# Yahoo Finance API & yfinance Library"
   ]
  },
  {
   "cell_type": "code",
   "execution_count": 8,
   "id": "e5bd5d88",
   "metadata": {},
   "outputs": [
    {
     "name": "stdout",
     "output_type": "stream",
     "text": [
      "Requirement already satisfied: yahoo_fin in /Users/edgarkinetz/opt/anaconda3/lib/python3.9/site-packages (0.8.9.1)\n",
      "Requirement already satisfied: pandas in /Users/edgarkinetz/opt/anaconda3/lib/python3.9/site-packages (from yahoo_fin) (1.3.4)\n",
      "Requirement already satisfied: feedparser in /Users/edgarkinetz/opt/anaconda3/lib/python3.9/site-packages (from yahoo_fin) (6.0.10)\n",
      "Requirement already satisfied: requests in /Users/edgarkinetz/opt/anaconda3/lib/python3.9/site-packages (from yahoo_fin) (2.26.0)\n",
      "Requirement already satisfied: requests-html in /Users/edgarkinetz/opt/anaconda3/lib/python3.9/site-packages (from yahoo_fin) (0.10.0)\n",
      "Requirement already satisfied: sgmllib3k in /Users/edgarkinetz/opt/anaconda3/lib/python3.9/site-packages (from feedparser->yahoo_fin) (1.0.0)\n",
      "Requirement already satisfied: python-dateutil>=2.7.3 in /Users/edgarkinetz/opt/anaconda3/lib/python3.9/site-packages (from pandas->yahoo_fin) (2.8.2)\n",
      "Requirement already satisfied: pytz>=2017.3 in /Users/edgarkinetz/opt/anaconda3/lib/python3.9/site-packages (from pandas->yahoo_fin) (2021.3)\n",
      "Requirement already satisfied: numpy>=1.17.3 in /Users/edgarkinetz/opt/anaconda3/lib/python3.9/site-packages (from pandas->yahoo_fin) (1.20.3)\n",
      "Requirement already satisfied: six>=1.5 in /Users/edgarkinetz/opt/anaconda3/lib/python3.9/site-packages (from python-dateutil>=2.7.3->pandas->yahoo_fin) (1.16.0)\n",
      "Requirement already satisfied: certifi>=2017.4.17 in /Users/edgarkinetz/opt/anaconda3/lib/python3.9/site-packages (from requests->yahoo_fin) (2021.10.8)\n",
      "Requirement already satisfied: charset-normalizer~=2.0.0 in /Users/edgarkinetz/opt/anaconda3/lib/python3.9/site-packages (from requests->yahoo_fin) (2.0.4)\n",
      "Requirement already satisfied: idna<4,>=2.5 in /Users/edgarkinetz/opt/anaconda3/lib/python3.9/site-packages (from requests->yahoo_fin) (3.2)\n",
      "Requirement already satisfied: urllib3<1.27,>=1.21.1 in /Users/edgarkinetz/opt/anaconda3/lib/python3.9/site-packages (from requests->yahoo_fin) (1.26.7)\n",
      "Requirement already satisfied: parse in /Users/edgarkinetz/opt/anaconda3/lib/python3.9/site-packages (from requests-html->yahoo_fin) (1.19.0)\n",
      "Requirement already satisfied: bs4 in /Users/edgarkinetz/opt/anaconda3/lib/python3.9/site-packages (from requests-html->yahoo_fin) (0.0.1)\n",
      "Requirement already satisfied: pyquery in /Users/edgarkinetz/opt/anaconda3/lib/python3.9/site-packages (from requests-html->yahoo_fin) (1.4.3)\n",
      "Requirement already satisfied: fake-useragent in /Users/edgarkinetz/opt/anaconda3/lib/python3.9/site-packages (from requests-html->yahoo_fin) (1.0.1)\n",
      "Requirement already satisfied: w3lib in /Users/edgarkinetz/opt/anaconda3/lib/python3.9/site-packages (from requests-html->yahoo_fin) (2.0.1)\n",
      "Requirement already satisfied: pyppeteer>=0.0.14 in /Users/edgarkinetz/opt/anaconda3/lib/python3.9/site-packages (from requests-html->yahoo_fin) (1.0.2)\n",
      "Requirement already satisfied: tqdm<5.0.0,>=4.42.1 in /Users/edgarkinetz/opt/anaconda3/lib/python3.9/site-packages (from pyppeteer>=0.0.14->requests-html->yahoo_fin) (4.62.3)\n",
      "Requirement already satisfied: websockets<11.0,>=10.0 in /Users/edgarkinetz/opt/anaconda3/lib/python3.9/site-packages (from pyppeteer>=0.0.14->requests-html->yahoo_fin) (10.4)\n",
      "Requirement already satisfied: importlib-metadata>=1.4 in /Users/edgarkinetz/opt/anaconda3/lib/python3.9/site-packages (from pyppeteer>=0.0.14->requests-html->yahoo_fin) (4.8.1)\n",
      "Requirement already satisfied: pyee<9.0.0,>=8.1.0 in /Users/edgarkinetz/opt/anaconda3/lib/python3.9/site-packages (from pyppeteer>=0.0.14->requests-html->yahoo_fin) (8.2.2)\n",
      "Requirement already satisfied: appdirs<2.0.0,>=1.4.3 in /Users/edgarkinetz/opt/anaconda3/lib/python3.9/site-packages (from pyppeteer>=0.0.14->requests-html->yahoo_fin) (1.4.4)\n",
      "Requirement already satisfied: zipp>=0.5 in /Users/edgarkinetz/opt/anaconda3/lib/python3.9/site-packages (from importlib-metadata>=1.4->pyppeteer>=0.0.14->requests-html->yahoo_fin) (3.6.0)\n",
      "Requirement already satisfied: beautifulsoup4 in /Users/edgarkinetz/opt/anaconda3/lib/python3.9/site-packages (from bs4->requests-html->yahoo_fin) (4.10.0)\n",
      "Requirement already satisfied: soupsieve>1.2 in /Users/edgarkinetz/opt/anaconda3/lib/python3.9/site-packages (from beautifulsoup4->bs4->requests-html->yahoo_fin) (2.2.1)\n",
      "Requirement already satisfied: importlib-resources>=5.0 in /Users/edgarkinetz/opt/anaconda3/lib/python3.9/site-packages (from fake-useragent->requests-html->yahoo_fin) (5.10.0)\n",
      "Requirement already satisfied: cssselect>0.7.9 in /Users/edgarkinetz/opt/anaconda3/lib/python3.9/site-packages (from pyquery->requests-html->yahoo_fin) (1.2.0)\n",
      "Requirement already satisfied: lxml>=2.1 in /Users/edgarkinetz/opt/anaconda3/lib/python3.9/site-packages (from pyquery->requests-html->yahoo_fin) (4.6.3)\n"
     ]
    }
   ],
   "source": [
    "!pip install yahoo_fin"
   ]
  },
  {
   "cell_type": "code",
   "execution_count": 1,
   "id": "fd45db56-16b7-4a77-a95f-c1e98457eb99",
   "metadata": {},
   "outputs": [
    {
     "name": "stdout",
     "output_type": "stream",
     "text": [
      "Requirement already satisfied: yfinance in /Users/edgarkinetz/opt/anaconda3/lib/python3.9/site-packages (0.1.87)\n",
      "Requirement already satisfied: appdirs>=1.4.4 in /Users/edgarkinetz/opt/anaconda3/lib/python3.9/site-packages (from yfinance) (1.4.4)\n",
      "Requirement already satisfied: requests>=2.26 in /Users/edgarkinetz/opt/anaconda3/lib/python3.9/site-packages (from yfinance) (2.26.0)\n",
      "Requirement already satisfied: multitasking>=0.0.7 in /Users/edgarkinetz/opt/anaconda3/lib/python3.9/site-packages (from yfinance) (0.0.11)\n",
      "Requirement already satisfied: lxml>=4.5.1 in /Users/edgarkinetz/opt/anaconda3/lib/python3.9/site-packages (from yfinance) (4.6.3)\n",
      "Requirement already satisfied: numpy>=1.15 in /Users/edgarkinetz/opt/anaconda3/lib/python3.9/site-packages (from yfinance) (1.20.3)\n",
      "Requirement already satisfied: pandas>=0.24.0 in /Users/edgarkinetz/opt/anaconda3/lib/python3.9/site-packages (from yfinance) (1.3.4)\n",
      "Requirement already satisfied: python-dateutil>=2.7.3 in /Users/edgarkinetz/opt/anaconda3/lib/python3.9/site-packages (from pandas>=0.24.0->yfinance) (2.8.2)\n",
      "Requirement already satisfied: pytz>=2017.3 in /Users/edgarkinetz/opt/anaconda3/lib/python3.9/site-packages (from pandas>=0.24.0->yfinance) (2021.3)\n",
      "Requirement already satisfied: six>=1.5 in /Users/edgarkinetz/opt/anaconda3/lib/python3.9/site-packages (from python-dateutil>=2.7.3->pandas>=0.24.0->yfinance) (1.16.0)\n",
      "Requirement already satisfied: idna<4,>=2.5 in /Users/edgarkinetz/opt/anaconda3/lib/python3.9/site-packages (from requests>=2.26->yfinance) (3.2)\n",
      "Requirement already satisfied: certifi>=2017.4.17 in /Users/edgarkinetz/opt/anaconda3/lib/python3.9/site-packages (from requests>=2.26->yfinance) (2021.10.8)\n",
      "Requirement already satisfied: charset-normalizer~=2.0.0 in /Users/edgarkinetz/opt/anaconda3/lib/python3.9/site-packages (from requests>=2.26->yfinance) (2.0.4)\n",
      "Requirement already satisfied: urllib3<1.27,>=1.21.1 in /Users/edgarkinetz/opt/anaconda3/lib/python3.9/site-packages (from requests>=2.26->yfinance) (1.26.7)\n"
     ]
    }
   ],
   "source": [
    "!pip install yfinance"
   ]
  },
  {
   "cell_type": "code",
   "execution_count": 14,
   "id": "859232d4",
   "metadata": {},
   "outputs": [],
   "source": [
    "import yahoo_fin.stock_info as si # one of two modules of yahoo_fin\n",
    "import yfinance as yf\n",
    "import pandas as pd\n",
    "import seaborn as sns"
   ]
  },
  {
   "cell_type": "code",
   "execution_count": null,
   "id": "bb3fac67-23cc-457e-ba04-82f919ff66d2",
   "metadata": {},
   "outputs": [],
   "source": [
    "amazon_weekly = si.get_data(\"amzn\", start_date=\"12/04/2020\", end_date=\"12/04/2021\", index_as_date = True, interval = \"1wk\")\n",
    "amazon_weekly"
   ]
  },
  {
   "cell_type": "code",
   "execution_count": 163,
   "id": "0b59cf0b",
   "metadata": {},
   "outputs": [],
   "source": [
    "# historical data of Apple Inc.\n",
    "aapl_df = si.get_data('aapl', start_date = '01-01-2015', end_date = '31-12-2015')"
   ]
  },
  {
   "cell_type": "code",
   "execution_count": 162,
   "id": "8f6f79cb",
   "metadata": {},
   "outputs": [
    {
     "data": {
      "text/plain": [
       "147.80999755859375"
      ]
     },
     "execution_count": 162,
     "metadata": {},
     "output_type": "execute_result"
    }
   ],
   "source": [
    "# current/real stock price data\n",
    "si.get_live_price('aapl')"
   ]
  },
  {
   "cell_type": "code",
   "execution_count": 160,
   "id": "c92c1351-712c-452b-b264-354b0b39b3be",
   "metadata": {},
   "outputs": [
    {
     "data": {
      "text/plain": [
       "{'Earnings Estimate':   Earnings Estimate  Current Qtr. (Dec 2022)  Next Qtr. (Mar 2023)  \\\n",
       " 0   No. of Analysts                    27.00                 26.00   \n",
       " 1     Avg. Estimate                     2.01                  1.49   \n",
       " 2      Low Estimate                     1.86                  1.32   \n",
       " 3     High Estimate                     2.12                  1.67   \n",
       " 4      Year Ago EPS                     2.10                  1.52   \n",
       " \n",
       "    Current Year (2023)  Next Year (2024)  \n",
       " 0                38.00             32.00  \n",
       " 1                 6.25              6.81  \n",
       " 2                 5.40              6.01  \n",
       " 3                 6.87              7.36  \n",
       " 4                 6.11              6.25  ,\n",
       " 'Revenue Estimate':           Revenue Estimate Current Qtr. (Dec 2022) Next Qtr. (Mar 2023)  \\\n",
       " 0          No. of Analysts                      23                   23   \n",
       " 1            Avg. Estimate                 124.17B               98.27B   \n",
       " 2             Low Estimate                 117.31B               89.61B   \n",
       " 3            High Estimate                 129.38B                 106B   \n",
       " 4           Year Ago Sales                 123.94B               97.28B   \n",
       " 5  Sales Growth (year/est)                   0.20%                1.00%   \n",
       " \n",
       "   Current Year (2023) Next Year (2024)  \n",
       " 0                  36               30  \n",
       " 1             405.82B          428.42B  \n",
       " 2             383.26B          405.73B  \n",
       " 3             419.74B          448.57B  \n",
       " 4             394.33B          405.82B  \n",
       " 5               2.90%            5.60%  ,\n",
       " 'Earnings History':   Earnings History 12/30/2021 3/30/2022 6/29/2022 9/29/2022\n",
       " 0         EPS Est.       1.89      1.43      1.16      1.27\n",
       " 1       EPS Actual        2.1      1.52       1.2      1.29\n",
       " 2       Difference       0.21      0.09      0.04      0.02\n",
       " 3       Surprise %     11.10%     6.30%     3.40%     1.60%,\n",
       " 'EPS Trend':           EPS Trend  Current Qtr. (Dec 2022)  Next Qtr. (Mar 2023)  \\\n",
       " 0  Current Estimate                     2.01                  1.49   \n",
       " 1        7 Days Ago                     2.04                  1.49   \n",
       " 2       30 Days Ago                     2.08                  1.47   \n",
       " 3       60 Days Ago                     2.13                  1.53   \n",
       " 4       90 Days Ago                     2.12                  1.52   \n",
       " \n",
       "    Current Year (2023)  Next Year (2024)  \n",
       " 0                 6.25              6.81  \n",
       " 1                 6.25              6.81  \n",
       " 2                 6.26              6.82  \n",
       " 3                 6.46              6.88  \n",
       " 4                 6.45              6.88  ,\n",
       " 'EPS Revisions':        EPS Revisions  Current Qtr. (Dec 2022)  Next Qtr. (Mar 2023)  \\\n",
       " 0     Up Last 7 Days                      NaN                   4.0   \n",
       " 1    Up Last 30 Days                      NaN                  10.0   \n",
       " 2   Down Last 7 Days                      NaN                   NaN   \n",
       " 3  Down Last 30 Days                      5.0                   1.0   \n",
       " \n",
       "    Current Year (2023)  Next Year (2024)  \n",
       " 0                  1.0               NaN  \n",
       " 1                  1.0               4.0  \n",
       " 2                  NaN               NaN  \n",
       " 3                  4.0               1.0  ,\n",
       " 'Growth Estimates':            Growth Estimates    AAPL  Industry  Sector(s)  S&P 500\n",
       " 0              Current Qtr.  -4.30%       NaN        NaN      NaN\n",
       " 1                 Next Qtr.  -2.00%       NaN        NaN      NaN\n",
       " 2              Current Year   2.30%       NaN        NaN      NaN\n",
       " 3                 Next Year   9.00%       NaN        NaN      NaN\n",
       " 4  Next 5 Years (per annum)   8.89%       NaN        NaN      NaN\n",
       " 5  Past 5 Years (per annum)  22.59%       NaN        NaN      NaN}"
      ]
     },
     "execution_count": 160,
     "metadata": {},
     "output_type": "execute_result"
    }
   ],
   "source": [
    "si.get_analysts_info('aapl')"
   ]
  },
  {
   "cell_type": "code",
   "execution_count": null,
   "id": "13180026-ffa7-4e47-acd5-9c28cbc07841",
   "metadata": {},
   "outputs": [],
   "source": [
    "si.get_data(ticker = 'aapl', index_as_date = False) # historical data of Apple Inc."
   ]
  },
  {
   "cell_type": "code",
   "execution_count": 3,
   "id": "3f56901c-969d-49e6-9801-21fcadedf304",
   "metadata": {},
   "outputs": [],
   "source": [
    "dow_ticker_list = si.tickers_dow()\n",
    "sp500_ticker_list = si.tickers_sp500()\n",
    "nasdaq_ticker_list = si.tickers_nasdaq()"
   ]
  },
  {
   "cell_type": "code",
   "execution_count": null,
   "id": "af4c8318-2afe-4fe2-89ae-2f9e7a16c704",
   "metadata": {},
   "outputs": [],
   "source": [
    "dow_stats = {}\n",
    "for ticker in dow_ticker_list:\n",
    "    temp = si.get_stats_valuation(ticker)\n",
    "    temp = temp.iloc[:,:2]\n",
    "    temp.columns = [\"Attribute\", \"Recent\"]\n",
    "    dow_stats[ticker] = temp\n",
    "dow_stats"
   ]
  },
  {
   "cell_type": "code",
   "execution_count": null,
   "id": "16e36006-07a7-4c0c-8423-ef41347569d6",
   "metadata": {},
   "outputs": [],
   "source": [
    "combined_stats = pd.concat(dow_stats)\n",
    "combined_stats = combined_stats.reset_index()\n",
    "\n",
    "del combined_stats[\"level_1\"]\n",
    "# update column names\n",
    "combined_stats.columns = [\"Ticker\", \"Attribute\", \"Recent\"]\n",
    "combined_stats\n"
   ]
  },
  {
   "cell_type": "code",
   "execution_count": null,
   "id": "2fa4a7bc-b05b-4d01-a3e4-99e5eff8dba1",
   "metadata": {},
   "outputs": [],
   "source": [
    "# comparing by particular attribute\n",
    "pe_ratios = combined_stats[combined_stats[\"Attribute\"]==\"Trailing P/E\"].reset_index()\n",
    "pe_ratios"
   ]
  },
  {
   "cell_type": "code",
   "execution_count": null,
   "id": "98628256-6c47-42fb-8220-adc776e40149",
   "metadata": {},
   "outputs": [],
   "source": [
    "pe_ratios_sorted = pe_ratios.sort_values('Recent',ascending=False)\n",
    "pe_ratios_sorted"
   ]
  },
  {
   "cell_type": "code",
   "execution_count": 4,
   "id": "fd2a5a77-d1aa-49f8-8c20-b4fdca94ddbb",
   "metadata": {},
   "outputs": [
    {
     "data": {
      "text/plain": [
       "['AAPL',\n",
       " 'AMGN',\n",
       " 'AXP',\n",
       " 'BA',\n",
       " 'CAT',\n",
       " 'CRM',\n",
       " 'CSCO',\n",
       " 'CVX',\n",
       " 'DIS',\n",
       " 'DOW',\n",
       " 'GS',\n",
       " 'HD',\n",
       " 'HON',\n",
       " 'IBM',\n",
       " 'INTC',\n",
       " 'JNJ',\n",
       " 'JPM',\n",
       " 'KO',\n",
       " 'MCD',\n",
       " 'MMM',\n",
       " 'MRK',\n",
       " 'MSFT',\n",
       " 'NKE',\n",
       " 'PG',\n",
       " 'TRV',\n",
       " 'UNH',\n",
       " 'V',\n",
       " 'VZ',\n",
       " 'WBA',\n",
       " 'WMT']"
      ]
     },
     "execution_count": 4,
     "metadata": {},
     "output_type": "execute_result"
    }
   ],
   "source": [
    "dow_ticker_list"
   ]
  },
  {
   "cell_type": "code",
   "execution_count": 11,
   "id": "a65b066c-bc73-441c-b7c2-e2943782c2ef",
   "metadata": {},
   "outputs": [],
   "source": [
    "combined_list = dow_ticker_list + sp500_ticker_list + nasdaq_ticker_list"
   ]
  },
  {
   "cell_type": "code",
   "execution_count": 13,
   "id": "27c7d2ad-da1b-457a-963f-decf5b0aee10",
   "metadata": {},
   "outputs": [],
   "source": [
    "import csv\n",
    "\n",
    "with open('ticker.txt', 'w') as file:\n",
    "    \n",
    "    for ticker in combined_list:\n",
    "        file.write(ticker + '\\n')"
   ]
  },
  {
   "cell_type": "code",
   "execution_count": 3,
   "id": "edbc17f6-f9e8-4138-aa1f-ab76b1827219",
   "metadata": {},
   "outputs": [],
   "source": [
    "overview_list = []\n",
    "\n",
    "for ticker in dow_ticker_list:\n",
    "    industry =  yf.Ticker(ticker).info['industry']\n",
    "    pe_ratio = si.get_quote_table(ticker)['PE Ratio (TTM)']\n",
    "    overview_list.append((ticker, industry, pe_ratio))"
   ]
  },
  {
   "cell_type": "code",
   "execution_count": 4,
   "id": "e5881024-bd6a-4222-86c9-dfc74ce28caf",
   "metadata": {},
   "outputs": [
    {
     "data": {
      "text/plain": [
       "[('AAPL', 'Consumer Electronics', 23.07),\n",
       " ('AMGN', 'Drug Manufacturers—General', 22.93),\n",
       " ('AXP', 'Credit Services', 15.52),\n",
       " ('BA', 'Aerospace & Defense', nan),\n",
       " ('CAT', 'Farm & Heavy Construction Machinery', 16.67),\n",
       " ('CRM', 'Software—Application', 501.85),\n",
       " ('CSCO', 'Communication Equipment', 17.39),\n",
       " ('CVX', 'Oil & Gas Integrated', 9.81),\n",
       " ('DIS', 'Entertainment', 52.66),\n",
       " ('DOW', 'Chemicals', 6.58),\n",
       " ('GS', 'Capital Markets', 9.58),\n",
       " ('HD', 'Home Improvement Retail', 19.3),\n",
       " ('HON', 'Conglomerates', 27.33),\n",
       " ('IBM', 'Information Technology Services', 24.19),\n",
       " ('INTC', 'Semiconductors', 8.77),\n",
       " ('JNJ', 'Drug Manufacturers—General', 24.68),\n",
       " ('JPM', 'Banks—Diversified', 11.1),\n",
       " ('KO', 'Beverages—Non-Alcoholic', 27.87),\n",
       " ('MCD', 'Restaurants', 34.09),\n",
       " ('MMM', 'Conglomerates', 11.03),\n",
       " ('MRK', 'Drug Manufacturers—General', 18.26),\n",
       " ('MSFT', 'Software—Infrastructure', 26.3),\n",
       " ('NKE', 'Footwear & Accessories', 30.78),\n",
       " ('PG', 'Household & Personal Products', 26.04),\n",
       " ('TRV', 'Insurance—Property & Casualty', 13.76),\n",
       " ('UNH', 'Healthcare Plans', 26.6),\n",
       " ('V', 'Credit Services', 29.69),\n",
       " ('VZ', 'Telecom Services', 8.08),\n",
       " ('WBA', 'Pharmaceutical Retailers', 8.11),\n",
       " ('WMT', 'Discount Stores', 45.88)]"
      ]
     },
     "execution_count": 4,
     "metadata": {},
     "output_type": "execute_result"
    }
   ],
   "source": [
    "overview_list"
   ]
  },
  {
   "cell_type": "code",
   "execution_count": 11,
   "id": "ad08749a-926b-407c-bb09-3f247c56d836",
   "metadata": {},
   "outputs": [
    {
     "data": {
      "text/plain": [
       "{'1y Target Est': 176.45,\n",
       " '52 Week Range': '125.87 - 182.94',\n",
       " 'Ask': '0.00 x 1200',\n",
       " 'Avg. Volume': 84510440.0,\n",
       " 'Beta (5Y Monthly)': 1.22,\n",
       " 'Bid': '0.00 x 1200',\n",
       " \"Day's Range\": '125.87 - 131.03',\n",
       " 'EPS (TTM)': 6.11,\n",
       " 'Earnings Date': 'Jan 25, 2023 - Jan 30, 2023',\n",
       " 'Ex-Dividend Date': 'Nov 04, 2022',\n",
       " 'Forward Dividend & Yield': '0.92 (0.70%)',\n",
       " 'Market Cap': '2.005T',\n",
       " 'Open': 129.67,\n",
       " 'PE Ratio (TTM)': 20.63,\n",
       " 'Previous Close': 130.03,\n",
       " 'Quote Price': 126.04000091552734,\n",
       " 'Volume': 85438391.0}"
      ]
     },
     "execution_count": 11,
     "metadata": {},
     "output_type": "execute_result"
    }
   ],
   "source": [
    "si.get_quote_table('AAPL')"
   ]
  },
  {
   "cell_type": "code",
   "execution_count": 12,
   "id": "537f8ede-11be-4e56-8ce6-80da9e6806c8",
   "metadata": {},
   "outputs": [
    {
     "data": {
      "text/plain": [
       "{'regularMarketPrice': None,\n",
       " 'preMarketPrice': None,\n",
       " 'logo_url': '',\n",
       " 'trailingPegRatio': 2.5348}"
      ]
     },
     "execution_count": 12,
     "metadata": {},
     "output_type": "execute_result"
    }
   ],
   "source": [
    "yf.Ticker('aapl').info #dictionary now only contains a limited amount of information "
   ]
  },
  {
   "cell_type": "code",
   "execution_count": 5,
   "id": "21614cc1-8db7-4fa4-94ca-f2426c3dcc27",
   "metadata": {},
   "outputs": [
    {
     "ename": "KeyError",
     "evalue": "'industry'",
     "output_type": "error",
     "traceback": [
      "\u001b[0;31m---------------------------------------------------------------------------\u001b[0m",
      "\u001b[0;31mKeyError\u001b[0m                                  Traceback (most recent call last)",
      "\u001b[0;32m/var/folders/_6/1bbt3j3x1p79t2tvwtnwj3m00000gn/T/ipykernel_17345/2702235967.py\u001b[0m in \u001b[0;36m<module>\u001b[0;34m\u001b[0m\n\u001b[1;32m      1\u001b[0m \u001b[0;32mfor\u001b[0m \u001b[0mticker\u001b[0m \u001b[0;32min\u001b[0m \u001b[0msp500_ticker_list\u001b[0m\u001b[0;34m:\u001b[0m\u001b[0;34m\u001b[0m\u001b[0;34m\u001b[0m\u001b[0m\n\u001b[0;32m----> 2\u001b[0;31m     \u001b[0mindustry\u001b[0m \u001b[0;34m=\u001b[0m  \u001b[0myf\u001b[0m\u001b[0;34m.\u001b[0m\u001b[0mTicker\u001b[0m\u001b[0;34m(\u001b[0m\u001b[0mticker\u001b[0m\u001b[0;34m)\u001b[0m\u001b[0;34m.\u001b[0m\u001b[0minfo\u001b[0m\u001b[0;34m[\u001b[0m\u001b[0;34m'industry'\u001b[0m\u001b[0;34m]\u001b[0m\u001b[0;34m\u001b[0m\u001b[0;34m\u001b[0m\u001b[0m\n\u001b[0m\u001b[1;32m      3\u001b[0m     \u001b[0mpe_ratio\u001b[0m \u001b[0;34m=\u001b[0m \u001b[0msi\u001b[0m\u001b[0;34m.\u001b[0m\u001b[0mget_quote_table\u001b[0m\u001b[0;34m(\u001b[0m\u001b[0mticker\u001b[0m\u001b[0;34m)\u001b[0m\u001b[0;34m[\u001b[0m\u001b[0;34m'PE Ratio (TTM)'\u001b[0m\u001b[0;34m]\u001b[0m\u001b[0;34m\u001b[0m\u001b[0;34m\u001b[0m\u001b[0m\n\u001b[1;32m      4\u001b[0m     \u001b[0moverview_list\u001b[0m\u001b[0;34m.\u001b[0m\u001b[0mappend\u001b[0m\u001b[0;34m(\u001b[0m\u001b[0;34m(\u001b[0m\u001b[0mticker\u001b[0m\u001b[0;34m,\u001b[0m \u001b[0mindustry\u001b[0m\u001b[0;34m,\u001b[0m \u001b[0mpe_ratio\u001b[0m\u001b[0;34m)\u001b[0m\u001b[0;34m)\u001b[0m\u001b[0;34m\u001b[0m\u001b[0;34m\u001b[0m\u001b[0m\n",
      "\u001b[0;31mKeyError\u001b[0m: 'industry'"
     ]
    }
   ],
   "source": [
    "for ticker in sp500_ticker_list:\n",
    "    industry =  yf.Ticker(ticker).info['industry']\n",
    "    pe_ratio = si.get_quote_table(ticker)['PE Ratio (TTM)']\n",
    "    overview_list.append((ticker, industry, pe_ratio))"
   ]
  },
  {
   "cell_type": "code",
   "execution_count": 34,
   "id": "1521baef-827e-4b5e-8e83-b6e5d99b0205",
   "metadata": {},
   "outputs": [
    {
     "data": {
      "text/plain": [
       "229"
      ]
     },
     "execution_count": 34,
     "metadata": {},
     "output_type": "execute_result"
    }
   ],
   "source": [
    "len(overview_list)"
   ]
  },
  {
   "cell_type": "code",
   "execution_count": 6,
   "id": "6a843243-6b2c-4613-989c-da32ebc87afd",
   "metadata": {},
   "outputs": [
    {
     "data": {
      "text/plain": [
       "229"
      ]
     },
     "execution_count": 6,
     "metadata": {},
     "output_type": "execute_result"
    }
   ],
   "source": [
    "len(overview_list)"
   ]
  },
  {
   "cell_type": "code",
   "execution_count": 19,
   "id": "86f01836-38d2-46db-ac44-49aaa74a738f",
   "metadata": {},
   "outputs": [
    {
     "name": "stdout",
     "output_type": "stream",
     "text": [
      "8\n",
      "AAPL\n",
      "AMGN\n",
      "AXP\n",
      "BA\n",
      "CAT\n",
      "CRM\n",
      "CSCO\n",
      "CVX\n",
      "DIS\n",
      "DOW\n",
      "GS\n",
      "HD\n",
      "HON\n",
      "IBM\n",
      "INTC\n",
      "JNJ\n",
      "JPM\n",
      "KO\n",
      "MCD\n",
      "MMM\n",
      "MRK\n",
      "MSFT\n",
      "error:NKE\n",
      "'NoneType' object is not subscriptable\n",
      "NKE\n",
      "PG\n",
      "error:TRV\n",
      "{'chart': {'result': None, 'error': {'code': 'Internal Server Error', 'description': 'Error occurred while retrieving timeseries from Redis, keys: [RedisKey [key=PG, cluster=finance]]'}}}\n",
      "TRV\n",
      "UNH\n",
      "error:V\n",
      "{'chart': {'result': None, 'error': {'code': 'Internal Server Error', 'description': 'Error occurred while retrieving timeseries from Redis, keys: [RedisKey [key=TRV, cluster=finance]]'}}}\n",
      "V\n",
      "error:VZ\n",
      "No tables found\n",
      "VZ\n",
      "error:WBA\n",
      "{'chart': {'result': None, 'error': {'code': 'Internal Server Error', 'description': 'Error occurred while retrieving timeseries from Redis, keys: [RedisKey [key=VZ, cluster=finance]]'}}}\n",
      "WBA\n",
      "WMT\n",
      "error:WMT\n",
      "{'chart': {'result': None, 'error': {'code': 'Internal Server Error', 'description': 'Error occurred while retrieving timeseries from Redis, keys: [RedisKey [key=WBA, cluster=finance]]'}}}\n"
     ]
    }
   ],
   "source": [
    "from threading import Thread\n",
    "import threading\n",
    "import numpy as np\n",
    "import time\n",
    "\n",
    "industry_list = []\n",
    "\n",
    "def assign_ticker(t, industry_list):\n",
    "    industry = yf.Ticker(t).info['industry'] \n",
    "    pe_ratio = si.get_quote_table(t)['PE Ratio (TTM)']\n",
    "    industry_list.append((t, industry, pe_ratio))\n",
    " \n",
    "for ticker in dow_ticker_list:\n",
    "    Thread(target = assign_ticker, args = (ticker, industry_list)).start()\n",
    "    print(ticker)\n",
    "    time.sleep(5)    "
   ]
  },
  {
   "cell_type": "code",
   "execution_count": null,
   "id": "34bb0982-ad6d-4da7-8d03-cea709dc840a",
   "metadata": {},
   "outputs": [],
   "source": [
    "for ticker in sp500_ticker_list:\n",
    "    try:\n",
    "        Thread(target = assign_ticker, args = (ticker, industry_list)).start()\n",
    "        print(str(ticker))\n",
    "    except KeyError:\n",
    "        continue       "
   ]
  },
  {
   "cell_type": "code",
   "execution_count": 8,
   "id": "1e4f62a0-3c47-4bb8-8cfe-50b21f092cf9",
   "metadata": {},
   "outputs": [
    {
     "data": {
      "text/html": [
       "<div>\n",
       "<style scoped>\n",
       "    .dataframe tbody tr th:only-of-type {\n",
       "        vertical-align: middle;\n",
       "    }\n",
       "\n",
       "    .dataframe tbody tr th {\n",
       "        vertical-align: top;\n",
       "    }\n",
       "\n",
       "    .dataframe thead th {\n",
       "        text-align: right;\n",
       "    }\n",
       "</style>\n",
       "<table border=\"1\" class=\"dataframe\">\n",
       "  <thead>\n",
       "    <tr style=\"text-align: right;\">\n",
       "      <th></th>\n",
       "      <th>ticker</th>\n",
       "      <th>industry</th>\n",
       "      <th>PE Ratio</th>\n",
       "    </tr>\n",
       "  </thead>\n",
       "  <tbody>\n",
       "    <tr>\n",
       "      <th>0</th>\n",
       "      <td>AAPL</td>\n",
       "      <td>Consumer Electronics</td>\n",
       "      <td>23.07</td>\n",
       "    </tr>\n",
       "    <tr>\n",
       "      <th>1</th>\n",
       "      <td>AMGN</td>\n",
       "      <td>Drug Manufacturers—General</td>\n",
       "      <td>22.93</td>\n",
       "    </tr>\n",
       "    <tr>\n",
       "      <th>2</th>\n",
       "      <td>AXP</td>\n",
       "      <td>Credit Services</td>\n",
       "      <td>15.52</td>\n",
       "    </tr>\n",
       "    <tr>\n",
       "      <th>3</th>\n",
       "      <td>BA</td>\n",
       "      <td>Aerospace &amp; Defense</td>\n",
       "      <td>NaN</td>\n",
       "    </tr>\n",
       "    <tr>\n",
       "      <th>4</th>\n",
       "      <td>CAT</td>\n",
       "      <td>Farm &amp; Heavy Construction Machinery</td>\n",
       "      <td>16.67</td>\n",
       "    </tr>\n",
       "    <tr>\n",
       "      <th>...</th>\n",
       "      <td>...</td>\n",
       "      <td>...</td>\n",
       "      <td>...</td>\n",
       "    </tr>\n",
       "    <tr>\n",
       "      <th>224</th>\n",
       "      <td>FRT</td>\n",
       "      <td>REIT—Retail</td>\n",
       "      <td>66.17</td>\n",
       "    </tr>\n",
       "    <tr>\n",
       "      <th>225</th>\n",
       "      <td>FTNT</td>\n",
       "      <td>Software—Infrastructure</td>\n",
       "      <td>17.46</td>\n",
       "    </tr>\n",
       "    <tr>\n",
       "      <th>226</th>\n",
       "      <td>FTV</td>\n",
       "      <td>Scientific &amp; Technical Instruments</td>\n",
       "      <td>14.18</td>\n",
       "    </tr>\n",
       "    <tr>\n",
       "      <th>227</th>\n",
       "      <td>GD</td>\n",
       "      <td>Aerospace &amp; Defense</td>\n",
       "      <td>21.13</td>\n",
       "    </tr>\n",
       "    <tr>\n",
       "      <th>228</th>\n",
       "      <td>GE</td>\n",
       "      <td>Specialty Industrial Machinery</td>\n",
       "      <td>NaN</td>\n",
       "    </tr>\n",
       "  </tbody>\n",
       "</table>\n",
       "<p>229 rows × 3 columns</p>\n",
       "</div>"
      ],
      "text/plain": [
       "    ticker                             industry  PE Ratio\n",
       "0     AAPL                 Consumer Electronics     23.07\n",
       "1     AMGN           Drug Manufacturers—General     22.93\n",
       "2      AXP                      Credit Services     15.52\n",
       "3       BA                  Aerospace & Defense       NaN\n",
       "4      CAT  Farm & Heavy Construction Machinery     16.67\n",
       "..     ...                                  ...       ...\n",
       "224    FRT                          REIT—Retail     66.17\n",
       "225   FTNT              Software—Infrastructure     17.46\n",
       "226    FTV   Scientific & Technical Instruments     14.18\n",
       "227     GD                  Aerospace & Defense     21.13\n",
       "228     GE       Specialty Industrial Machinery       NaN\n",
       "\n",
       "[229 rows x 3 columns]"
      ]
     },
     "execution_count": 8,
     "metadata": {},
     "output_type": "execute_result"
    }
   ],
   "source": [
    "overview_df = pd.DataFrame.from_records(overview_list, columns = ['ticker','industry', 'PE Ratio'] )\n",
    "overview_df"
   ]
  },
  {
   "cell_type": "code",
   "execution_count": 38,
   "id": "c6194d47-9ded-44e2-ab1e-c2fa6d1943e9",
   "metadata": {},
   "outputs": [
    {
     "data": {
      "text/html": [
       "<div>\n",
       "<style scoped>\n",
       "    .dataframe tbody tr th:only-of-type {\n",
       "        vertical-align: middle;\n",
       "    }\n",
       "\n",
       "    .dataframe tbody tr th {\n",
       "        vertical-align: top;\n",
       "    }\n",
       "\n",
       "    .dataframe thead th {\n",
       "        text-align: right;\n",
       "    }\n",
       "</style>\n",
       "<table border=\"1\" class=\"dataframe\">\n",
       "  <thead>\n",
       "    <tr style=\"text-align: right;\">\n",
       "      <th></th>\n",
       "      <th>avg_industry</th>\n",
       "    </tr>\n",
       "    <tr>\n",
       "      <th>industry</th>\n",
       "      <th></th>\n",
       "    </tr>\n",
       "  </thead>\n",
       "  <tbody>\n",
       "    <tr>\n",
       "      <th>Aerospace &amp; Defense</th>\n",
       "      <td>21.130000</td>\n",
       "    </tr>\n",
       "    <tr>\n",
       "      <th>Agricultural Inputs</th>\n",
       "      <td>42.543333</td>\n",
       "    </tr>\n",
       "    <tr>\n",
       "      <th>Airlines</th>\n",
       "      <td>NaN</td>\n",
       "    </tr>\n",
       "    <tr>\n",
       "      <th>Asset Management</th>\n",
       "      <td>16.546667</td>\n",
       "    </tr>\n",
       "    <tr>\n",
       "      <th>Auto &amp; Truck Dealerships</th>\n",
       "      <td>21.380000</td>\n",
       "    </tr>\n",
       "    <tr>\n",
       "      <th>...</th>\n",
       "      <td>...</td>\n",
       "    </tr>\n",
       "    <tr>\n",
       "      <th>Utilities—Diversified</th>\n",
       "      <td>NaN</td>\n",
       "    </tr>\n",
       "    <tr>\n",
       "      <th>Utilities—Regulated Electric</th>\n",
       "      <td>24.444167</td>\n",
       "    </tr>\n",
       "    <tr>\n",
       "      <th>Utilities—Regulated Gas</th>\n",
       "      <td>22.810000</td>\n",
       "    </tr>\n",
       "    <tr>\n",
       "      <th>Utilities—Regulated Water</th>\n",
       "      <td>38.860000</td>\n",
       "    </tr>\n",
       "    <tr>\n",
       "      <th>Utilities—Renewable</th>\n",
       "      <td>NaN</td>\n",
       "    </tr>\n",
       "  </tbody>\n",
       "</table>\n",
       "<p>84 rows × 1 columns</p>\n",
       "</div>"
      ],
      "text/plain": [
       "                              avg_industry\n",
       "industry                                  \n",
       "Aerospace & Defense              21.130000\n",
       "Agricultural Inputs              42.543333\n",
       "Airlines                               NaN\n",
       "Asset Management                 16.546667\n",
       "Auto & Truck Dealerships         21.380000\n",
       "...                                    ...\n",
       "Utilities—Diversified                  NaN\n",
       "Utilities—Regulated Electric     24.444167\n",
       "Utilities—Regulated Gas          22.810000\n",
       "Utilities—Regulated Water        38.860000\n",
       "Utilities—Renewable                    NaN\n",
       "\n",
       "[84 rows x 1 columns]"
      ]
     },
     "execution_count": 38,
     "metadata": {},
     "output_type": "execute_result"
    }
   ],
   "source": [
    "import numpy as np\n",
    "\n",
    "industry_df = overview_df.groupby(by = [\"industry\"]).agg(\n",
    "    avg_industry = (\"PE Ratio\", np.mean)\n",
    ")\n",
    "industry_df"
   ]
  },
  {
   "cell_type": "code",
   "execution_count": 39,
   "id": "9cf70f30-f57e-4335-a9bf-d47d01b0ddf3",
   "metadata": {},
   "outputs": [
    {
     "data": {
      "text/html": [
       "<div>\n",
       "<style scoped>\n",
       "    .dataframe tbody tr th:only-of-type {\n",
       "        vertical-align: middle;\n",
       "    }\n",
       "\n",
       "    .dataframe tbody tr th {\n",
       "        vertical-align: top;\n",
       "    }\n",
       "\n",
       "    .dataframe thead th {\n",
       "        text-align: right;\n",
       "    }\n",
       "</style>\n",
       "<table border=\"1\" class=\"dataframe\">\n",
       "  <thead>\n",
       "    <tr style=\"text-align: right;\">\n",
       "      <th></th>\n",
       "      <th>avg_industry</th>\n",
       "    </tr>\n",
       "    <tr>\n",
       "      <th>industry</th>\n",
       "      <th></th>\n",
       "    </tr>\n",
       "  </thead>\n",
       "  <tbody>\n",
       "    <tr>\n",
       "      <th>Travel Services</th>\n",
       "      <td>1358.030000</td>\n",
       "    </tr>\n",
       "    <tr>\n",
       "      <th>Solar</th>\n",
       "      <td>471.100000</td>\n",
       "    </tr>\n",
       "    <tr>\n",
       "      <th>Oil &amp; Gas Equipment &amp; Services</th>\n",
       "      <td>154.890000</td>\n",
       "    </tr>\n",
       "    <tr>\n",
       "      <th>Software—Application</th>\n",
       "      <td>143.542000</td>\n",
       "    </tr>\n",
       "    <tr>\n",
       "      <th>REIT—Specialty</th>\n",
       "      <td>83.795000</td>\n",
       "    </tr>\n",
       "    <tr>\n",
       "      <th>...</th>\n",
       "      <td>...</td>\n",
       "    </tr>\n",
       "    <tr>\n",
       "      <th>Insurance—Diversified</th>\n",
       "      <td>7.693333</td>\n",
       "    </tr>\n",
       "    <tr>\n",
       "      <th>Airlines</th>\n",
       "      <td>NaN</td>\n",
       "    </tr>\n",
       "    <tr>\n",
       "      <th>Resorts &amp; Casinos</th>\n",
       "      <td>NaN</td>\n",
       "    </tr>\n",
       "    <tr>\n",
       "      <th>Utilities—Diversified</th>\n",
       "      <td>NaN</td>\n",
       "    </tr>\n",
       "    <tr>\n",
       "      <th>Utilities—Renewable</th>\n",
       "      <td>NaN</td>\n",
       "    </tr>\n",
       "  </tbody>\n",
       "</table>\n",
       "<p>84 rows × 1 columns</p>\n",
       "</div>"
      ],
      "text/plain": [
       "                                avg_industry\n",
       "industry                                    \n",
       "Travel Services                  1358.030000\n",
       "Solar                             471.100000\n",
       "Oil & Gas Equipment & Services    154.890000\n",
       "Software—Application              143.542000\n",
       "REIT—Specialty                     83.795000\n",
       "...                                      ...\n",
       "Insurance—Diversified               7.693333\n",
       "Airlines                                 NaN\n",
       "Resorts & Casinos                        NaN\n",
       "Utilities—Diversified                    NaN\n",
       "Utilities—Renewable                      NaN\n",
       "\n",
       "[84 rows x 1 columns]"
      ]
     },
     "execution_count": 39,
     "metadata": {},
     "output_type": "execute_result"
    }
   ],
   "source": [
    "industry_df.sort_values(by = [\"avg_industry\"], inplace=True, ascending=False)\n",
    "industry_df"
   ]
  },
  {
   "cell_type": "code",
   "execution_count": 40,
   "id": "617f5cd7-caf9-4c88-b446-37178fde37a4",
   "metadata": {},
   "outputs": [
    {
     "data": {
      "text/html": [
       "<div>\n",
       "<style scoped>\n",
       "    .dataframe tbody tr th:only-of-type {\n",
       "        vertical-align: middle;\n",
       "    }\n",
       "\n",
       "    .dataframe tbody tr th {\n",
       "        vertical-align: top;\n",
       "    }\n",
       "\n",
       "    .dataframe thead th {\n",
       "        text-align: right;\n",
       "    }\n",
       "</style>\n",
       "<table border=\"1\" class=\"dataframe\">\n",
       "  <thead>\n",
       "    <tr style=\"text-align: right;\">\n",
       "      <th></th>\n",
       "      <th>ticker</th>\n",
       "      <th>industry</th>\n",
       "      <th>PE Ratio</th>\n",
       "    </tr>\n",
       "  </thead>\n",
       "  <tbody>\n",
       "    <tr>\n",
       "      <th>5</th>\n",
       "      <td>CRM</td>\n",
       "      <td>Software—Application</td>\n",
       "      <td>501.85</td>\n",
       "    </tr>\n",
       "    <tr>\n",
       "      <th>44</th>\n",
       "      <td>ADSK</td>\n",
       "      <td>Software—Application</td>\n",
       "      <td>68.56</td>\n",
       "    </tr>\n",
       "    <tr>\n",
       "      <th>67</th>\n",
       "      <td>ANSS</td>\n",
       "      <td>Software—Application</td>\n",
       "      <td>48.88</td>\n",
       "    </tr>\n",
       "    <tr>\n",
       "      <th>115</th>\n",
       "      <td>CDAY</td>\n",
       "      <td>Software—Application</td>\n",
       "      <td>NaN</td>\n",
       "    </tr>\n",
       "    <tr>\n",
       "      <th>116</th>\n",
       "      <td>CDNS</td>\n",
       "      <td>Software—Application</td>\n",
       "      <td>68.63</td>\n",
       "    </tr>\n",
       "    <tr>\n",
       "      <th>145</th>\n",
       "      <td>CRM</td>\n",
       "      <td>Software—Application</td>\n",
       "      <td>29.79</td>\n",
       "    </tr>\n",
       "  </tbody>\n",
       "</table>\n",
       "</div>"
      ],
      "text/plain": [
       "    ticker              industry  PE Ratio\n",
       "5      CRM  Software—Application    501.85\n",
       "44    ADSK  Software—Application     68.56\n",
       "67    ANSS  Software—Application     48.88\n",
       "115   CDAY  Software—Application       NaN\n",
       "116   CDNS  Software—Application     68.63\n",
       "145    CRM  Software—Application     29.79"
      ]
     },
     "execution_count": 40,
     "metadata": {},
     "output_type": "execute_result"
    }
   ],
   "source": [
    "software_industry_df = overview_df[overview_df['industry'] == 'Software—Application']\n",
    "software_industry_df"
   ]
  },
  {
   "cell_type": "code",
   "execution_count": 41,
   "id": "2cdfd3bf-d19c-4fe9-9471-7f5e6f067a84",
   "metadata": {},
   "outputs": [
    {
     "data": {
      "image/png": "[encoded data removed]",
      "text/plain": [
       "<Figure size 432x288 with 1 Axes>"
      ]
     },
     "metadata": {},
     "output_type": "display_data"
    }
   ],
   "source": [
    "sns.set()\n",
    "ax = sns.barplot(x = 'ticker', y = 'PE Ratio', data = software_industry_df );"
   ]
  },
  {
   "cell_type": "code",
   "execution_count": null,
   "id": "247aa498-6018-4600-a025-58e5057cfcb4",
   "metadata": {},
   "outputs": [],
   "source": []
  }
 ],
 "metadata": {
  "kernelspec": {
   "display_name": "Python 3 (ipykernel)",
   "language": "python",
   "name": "python3"
  },
  "language_info": {
   "codemirror_mode": {
    "name": "ipython",
    "version": 3
   },
   "file_extension": ".py",
   "mimetype": "text/x-python",
   "name": "python",
   "nbconvert_exporter": "python",
   "pygments_lexer": "ipython3",
   "version": "3.9.7"
  }
 },
 "nbformat": 4,
 "nbformat_minor": 5
}

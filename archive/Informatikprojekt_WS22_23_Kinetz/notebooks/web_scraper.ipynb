{
 "cells": [
  {
   "cell_type": "markdown",
   "id": "3f44d67f-aa37-43b8-9300-5842bfebb528",
   "metadata": {},
   "source": [
    "## Getting all the news cards for a specific industry"
   ]
  },
  {
   "cell_type": "code",
   "execution_count": 1,
   "id": "28552860-4e62-473c-84be-25de6fe719af",
   "metadata": {},
   "outputs": [],
   "source": [
    "import requests\n",
    "from bs4 import BeautifulSoup"
   ]
  },
  {
   "cell_type": "code",
   "execution_count": 60,
   "id": "b2c48ca5-45cf-44d8-b1d6-e8b940a2f4f6",
   "metadata": {},
   "outputs": [],
   "source": [
    "# all sectors provided by finanzen.net\n",
    "sectors = [\"automobile-und-verkehr\",\"banken-und-versicherungen\",'energie-und-rohstoffe','handel',\n",
    "            'immobilien','industrie','it-und-medien','konjunktur-und-wirtschaft','logistik',\n",
    "            'medizin-und-gesundheit']\n",
    "\n",
    "base_url = 'https://www.finanzen.net/nachrichten/sektor/'"
   ]
  },
  {
   "cell_type": "markdown",
   "id": "22934a69-651b-4a18-85b9-0ba1fc704d40",
   "metadata": {},
   "source": [
    "## This code would extract all articles for each sector\n",
    "Do not run this code without a proxy!!!"
   ]
  },
  {
   "cell_type": "code",
   "execution_count": 66,
   "id": "c239dec9-4134-4101-9bf5-f9bbb930949e",
   "metadata": {},
   "outputs": [
    {
     "name": "stdout",
     "output_type": "stream",
     "text": [
      "https://www.finanzen.net/nachrichten/sektor/automobile-und-verkehr\n",
      "https://www.finanzen.net/nachrichten/sektor/banken-und-versicherungen\n",
      "https://www.finanzen.net/nachrichten/sektor/energie-und-rohstoffe\n",
      "https://www.finanzen.net/nachrichten/sektor/handel\n",
      "https://www.finanzen.net/nachrichten/sektor/immobilien\n",
      "https://www.finanzen.net/nachrichten/sektor/industrie\n",
      "https://www.finanzen.net/nachrichten/sektor/it-und-medien\n",
      "https://www.finanzen.net/nachrichten/sektor/konjunktur-und-wirtschaft\n",
      "https://www.finanzen.net/nachrichten/sektor/logistik\n",
      "https://www.finanzen.net/nachrichten/sektor/medizin-und-gesundheit\n"
     ]
    }
   ],
   "source": [
    "for sector in sectors:\n",
    "    url = f\"{base_url}{sector}\"\n",
    "    response = requests.get(url)\n",
    "    secotor_articles(url)"
   ]
  },
  {
   "cell_type": "code",
   "execution_count": null,
   "id": "ab30fcbf-6685-43e5-9be8-1a5fcd22d6c8",
   "metadata": {},
   "outputs": [],
   "source": [
    "def sector_articles(sector_url):\n",
    "    response = requests.get(sector_url)\n",
    "    soup = BeautifulSoup(response.text, \"html.parser\")\n",
    "    \n",
    "    headline_urls = []\n",
    "\n",
    "    for article in articles:\n",
    "        headline = article.find(\"h3\").text.encode('iso-8859-1')\n",
    "        print(headline.decode('utf-8'))\n",
    "        url = article.select(\".news__card\")[0]['href']\n",
    "        headline_urls.append(url)\n",
    "        print(url) "
   ]
  },
  {
   "cell_type": "markdown",
   "id": "c5af72d0-45a7-4712-983b-fbda155d936f",
   "metadata": {},
   "source": [
    "# Run this code instead to test \n",
    "## Extract all links from the overview page for a specific sector"
   ]
  },
  {
   "cell_type": "code",
   "execution_count": 36,
   "id": "b7bb8fd9-28dc-4402-b8de-cf5bdb58963a",
   "metadata": {},
   "outputs": [
    {
     "data": {
      "text/plain": [
       "'Online-Seminar: Newstrading - Aktien-Daytrading-Strategien fÃ¼r BerufstÃ¤tige mit wenig Zeit'"
      ]
     },
     "execution_count": 36,
     "metadata": {},
     "output_type": "execute_result"
    }
   ],
   "source": [
    "# headlines are encoded in iso-8859-1\n",
    "articles[0].select(\".news__title\")[0].text"
   ]
  },
  {
   "cell_type": "code",
   "execution_count": 2,
   "id": "5bc341cf-c6e9-4564-9573-ebc1daa080ba",
   "metadata": {},
   "outputs": [
    {
     "name": "stdout",
     "output_type": "stream",
     "text": [
      "Wie funktioniert die Börse? Börse für Anfänger einfach erklärt\n",
      "/nachricht/private-finanzen/das-wichtigste-zur-boerse-wie-funktioniert-die-boerse-boerse-fuer-anfaenger-einfach-erklaert-11126135\n",
      "Wirecard-Aktie: Mehrere Verteidiger beantragen Unterbrechung von Wirecard-Prozess\n",
      "/nachricht/aktien/bilanzskandal-wirecard-aktie-mehrere-verteidiger-beantragen-unterbrechung-von-wirecard-prozess-12078962\n",
      "Dienstunfähigkeitsversicherung - der Schutz für Beamte gegen Berufsunfähigkeit\n",
      "/nachricht/private-finanzen/schutz-fuer-beamte-dienstunfaehigkeitsversicherung-der-schutz-fuer-beamte-gegen-berufsunfaehigkeit-9847270\n",
      "Online-Seminar: Einschätzungen und Strategien für die Märkte 2023\n",
      "/nachricht/trading/expertenausblick-2023-online-seminar-einschaetzungen-und-strategien-fuer-die-maerkte-2023-12074130\n",
      "Discount-Put-Optionsscheine - so profitieren Sie mit Rabatt von fallenden Kursen\n",
      "/nachricht/zertifikate/tipps-zur-auswahl-discount-put-optionsscheine-so-profitieren-sie-mit-rabatt-von-fallenden-kursen-8201234\n",
      "Video: In Dividendenaktien investieren - so geht's: Die besten Tipps, Dividenden-Aktien erklärt\n",
      "/nachricht/aktien/passives-einkommen-video-in-dividendenaktien-investieren-so-geht-s-die-besten-tipps-dividenden-aktien-erklaert-11379470\n",
      "Emerging Markets - so investieren Sie erfolgreich in Schwellenländern\n",
      "/nachricht/aktien/schwellenlaender-im-fokus-emerging-markets-so-investieren-sie-erfolgreich-in-schwellenlaendern-7311074\n",
      "In Öl investieren: Wie Sie Rohöl handeln und auf den Ölpreis spekulieren\n",
      "/nachricht/rohstoffe/in-wti-und-brent-investieren-in-oel-investieren-wie-sie-rohoel-handeln-und-auf-den-oelpreis-spekulieren-8705761\n",
      "Kryptowährungen-Vergleich: Welche Kryptowährung kaufen?\n",
      "/nachricht/devisen/kryptos-im-vergleich-kryptowaehrungen-vergleich-welche-kryptowaehrung-kaufen-11302221\n",
      "Video: Beim Handel von ETF Steuern sparen - 7 wichtige ETF-Steuerspartipps\n",
      "/nachricht/etf/etfs-und-steuern-video-beim-handel-von-etf-steuern-sparen-7-wichtige-etf-steuerspartipps-9647416\n",
      "Heizöl kaufen: So finden Sie den besten Heizölpreis!\n",
      "/nachricht/private-finanzen/so-heizen-sie-guenstig-heizoel-kaufen-so-finden-sie-den-besten-heizoelpreis-11681940\n",
      "Das müssen Sie über Hebelzertifikate wissen\n",
      "/nachricht/zertifikate/zertifikate-wissen-das-muessen-sie-ueber-hebelzertifikate-wissen-5578513\n",
      "Anycoin Direct: Die europäische Krypto-Börse im großen Check\n",
      "/nachricht/devisen/unsere-erfahrungen-anycoin-direct-die-europaeische-krypto-boerse-im-grossen-check-10329870\n",
      "Ginmon: Test und Erfahrungen - Robo-Advisor mit einzigartiger Technologie\n",
      "/nachricht/private-finanzen/anbieter-unter-der-lupe-ginmon-test-und-erfahrungen-robo-advisor-mit-einzigartiger-technologie-9071635\n",
      "Börsenspiel Vergleich: Die besten Börsenspiele - so nehmen Sie teil und so testen Sie Ihr Können\n",
      "/nachricht/aktien/boerse-spielerisch-erleben-boersenspiel-vergleich-die-besten-boersenspiele-so-nehmen-sie-teil-und-so-testen-sie-ihr-koennen-7307681\n",
      "Hypoport-Aktie dennoch deutlich fester: Hypoport leidet weiter unter Immobilienflaute\n",
      "/nachricht/aktien/sehr-schwache-nachfrage-hypoport-aktie-dennoch-deutlich-fester-hypoport-leidet-weiter-unter-immobilienflaute-12071177\n",
      "Online-Seminar: Trotz Zinswende & Inflation - Anlagechancen in 2023?\n",
      "/nachricht/trading/tipps-fuer-das-neue-jahr-online-seminar-trotz-zinswende-inflation-anlagechancen-in-2023-12055129\n",
      "Deutsche Bank-Aktie freundlich: Compliance-Kontrollen in Prüfung - Deutsche Bank ernennt neue Compliance-Chefin\n",
      "/nachricht/aktien/weitere-posten-besetzt-deutsche-bank-aktie-freundlich-compliance-kontrollen-in-pruefung-deutsche-bank-ernennt-neue-compliance-chefin-12077488\n",
      "KGV - wie Anleger das Kurs-Gewinn-Verhältnis berechnen und warum es so wichtig ist!\n",
      "/nachricht/private-finanzen/tipps-fuers-trading-kgv-wie-anleger-das-kurs-gewinn-verhaeltnis-berechnen-und-warum-es-so-wichtig-ist-9963408\n",
      "Video: Erfolgreich investieren - 7 Goldene Regeln\n",
      "/nachricht/private-finanzen/tipps-zum-vermoegensaufbau-video-erfolgreich-investieren-7-goldene-regeln-11776188\n",
      "ETF Erneuerbare Energien - die besten ETFs auf Sonnenenergie, Windkraft & Co.\n",
      "/nachricht/etf/gruene-anlegerhoffnung-etf-erneuerbare-energien-die-besten-etfs-auf-sonnenenergie-windkraft-co-11859550\n",
      "Video: Investmentfonds kaufen - 7 wichtige Tipps zum Fondshandel\n",
      "/nachricht/fonds/aktive-geldanlage-video-investmentfonds-kaufen-7-wichtige-tipps-zum-fondshandel-11091262\n",
      "Morgan Stanley-Aktie schließt im Plus: Morgan Stanley kann trotz Gewinnrückgang Erwartungen übertreffen\n",
      "/nachricht/aktien/schwieriges-umfeld-morgan-stanley-aktie-schliesst-im-plus-morgan-stanley-kann-trotz-gewinnrueckgang-erwartungen-uebertreffen-12075717\n",
      "Online-Seminar: Das Investment für 2023 - Robust, diversifiziert und mit gutem Inflationsschutz\n",
      "/nachricht/trading/krisen-ratschlaege-von-profis-online-seminar-das-investment-fuer-2023-robust-diversifiziert-und-mit-gutem-inflationsschutz-12059811\n",
      "Video: Vermögensaufbau - so kommen Anleger clever durch die Krise\n",
      "/nachricht/private-finanzen/sicher-durch-den-baerenmarkt-video-vermoegensaufbau-so-kommen-anleger-clever-durch-die-krise-11745126\n",
      "Solidvest Erfahrungen:  Der Robo-Advisor der DJE Kapital im großen Test\n",
      "/nachricht/private-finanzen/angebot-unter-der-lupe-solidvest-erfahrungen-der-robo-advisor-der-dje-kapital-im-grossen-test-9573525\n",
      "Festgeldvergleich - die höchsten Zinsen und besten Tipps zur Festgeldanlage\n",
      "/nachricht/private-finanzen/das-beste-festgeldkonto-festgeldvergleich-die-hoechsten-zinsen-und-besten-tipps-zur-festgeldanlage-7044527\n",
      "Video: Offene und geschlossene Fonds - Unterschied einfach erklärt in 5 Minuten!\n",
      "/nachricht/fonds/fonds-wissen-video-offene-und-geschlossene-fonds-unterschied-einfach-erklaert-in-5-minuten-10944398\n",
      "Metaverse-Aktien - wie Sie am besten in den Megatrend Metaversum investieren\n",
      "/nachricht/aktien/technologie-der-zukunft-metaverse-aktien-wie-sie-am-besten-in-den-megatrend-metaversum-investieren-11934110\n",
      "Geldwäsche: Deutsche Ermittler beginnen Befragungen im Libanon\n",
      "/nachricht/aktien/geldwaesche-deutsche-ermittler-beginnen-befragungen-im-libanon-12073377\n",
      "Online-Seminar: Nach dem größten Tech-Crash der letzten 20 Jahre: Wie geht es weiter mit Techaktien in 2023?\n",
      "/nachricht/trading/ausblick-techbranche-2023-online-seminar-nach-dem-groessten-tech-crash-der-letzten-20-jahre-wie-geht-es-weiter-mit-techaktien-in-2023-12049204\n",
      "Video: Forex-Trading - von Währungsschwankungen profitieren\n",
      "/nachricht/devisen/handel-mit-devisen-video-forex-trading-von-waehrungsschwankungen-profitieren-11533585\n",
      "Bausparvertrag Vergleich: Die besten Bausparverträge und wann sich Bausparen lohnt\n",
      "/nachricht/private-finanzen/bausparvertraege-im-test-bausparvertrag-vergleich-die-besten-bausparvertraege-und-wann-sich-bausparen-lohnt-7728430\n",
      "Online Seminar: Warum sollte man als Europäer in den US-Aktienmarkt investieren und wie soll man sich dort aufstellen?\n",
      "/nachricht/trading/us-aktien-im-check-online-seminar-warum-sollte-man-als-europaeer-in-den-us-aktienmarkt-investieren-und-wie-soll-man-sich-dort-aufstellen-11979014\n",
      "Video: Vermögenswirksame Leistungen - so legen Sie VL richtig an!\n",
      "/nachricht/private-finanzen/bis-zu-40-euro-mehr-vom-chef-video-vermoegenswirksame-leistungen-so-legen-sie-vl-richtig-an-9376208\n",
      "Online-Seminar: Das Investment für 2023 - Robust, diversifiziert und mit gutem Inflationsschutz\n",
      "/nachricht/trading/live-mitschnitt-online-seminar-das-investment-fuer-2023-robust-diversifiziert-und-mit-gutem-inflationsschutz-12074572\n",
      "Portfolio umgeschichtet: Diese US-Aktien befanden sich im dritten Quartal im Commerzbank-Depot\n",
      "/nachricht/aktien/q3-portfolio-portfolio-umgeschichtet-diese-us-aktien-befanden-sich-im-dritten-quartal-im-commerzbank-depot-11929957\n",
      "Studie: Nur wenige deutsche Aktien schaffen hohe Werte für Anleger\n",
      "/nachricht/aktien/studie-nur-wenige-deutsche-aktien-schaffen-hohe-werte-fuer-anleger-12078240\n",
      "Mit Hebelprodukten an der Börse partizipieren: Mini-Futures\n",
      "/nachricht/zertifikate/zertifikate-wissen-mit-hebelprodukten-an-der-boerse-partizipieren-mini-futures-5587408\n",
      "Goldman Sachs-Aktie schwächelt: Gewinn von Goldman Sachs bricht ein\n",
      "/nachricht/aktien/flaute-im-investmentbanking-goldman-sachs-aktie-schwaechelt-gewinn-von-goldman-sachs-bricht-ein-12075587\n",
      "EZB könnte im März offenbar Zinserhöhungstempo reduzieren\n",
      "/nachricht/zinsen/agenturbericht-ezb-koennte-im-maerz-offenbar-zinserhoehungstempo-reduzieren-12076715\n",
      "Studie: Deutsche Familienunternehmen legen zu - Asien holt auf\n",
      "/nachricht/aktien/studie-deutsche-familienunternehmen-legen-zu-asien-holt-auf-12076082\n",
      "Ausblick: Morgan Stanley stellt Quartalsergebnis zum abgelaufenen Jahresviertel vor\n",
      "/nachricht/aktien/analysten-prognosen-ausblick-morgan-stanley-stellt-quartalsergebnis-zum-abgelaufenen-jahresviertel-vor-12071026\n",
      "Ausblick: Charles Schwab gewährt Anlegern Blick in die Bücher\n",
      "/nachricht/aktien/ausblick-charles-schwab-gewaehrt-anlegern-blick-in-die-buecher-12074023\n",
      "Riester-Rente - mit diesen Tipps erhalten Sie die volle Förderung\n",
      "/nachricht/private-finanzen/gefoerderte-altersvorsorge-riester-rente-mit-diesen-tipps-erhalten-sie-die-volle-foerderung-7049305\n",
      "Video: Anlegen mit ETFs - wie Sie ein erfolgreiches ETF-Portfolio aufbauen können\n",
      "/nachricht/etf/fuer-jede-boersenphase-video-anlegen-mit-etfs-wie-sie-ein-erfolgreiches-etf-portfolio-aufbauen-koennen-11734610\n",
      "Online-Seminar:  Nach dem größten Tech-Crash der letzten 20 Jahre: Wie geht es weiter mit Techaktien in 2023?\n",
      "/nachricht/trading/live-mitschnitt-online-seminar-nach-dem-groessten-tech-crash-der-letzten-20-jahre-wie-geht-es-weiter-mit-techaktien-in-2023-12071740\n",
      "Betreiber von LNG-Terminals sollen Hackerangriffe melden müssen\n",
      "/nachricht/aktien/betreiber-von-lng-terminals-sollen-hackerangriffe-melden-muessen-12073053\n",
      "BBVA-Aktie profitiert: BBVA zahlt höchst Dividende seit mehr als einem Jahrzehnt\n",
      "/nachricht/aktien/trotz-unsicherem-umfeld-bbva-aktie-profitiert-bbva-zahlt-hoechst-dividende-seit-mehr-als-einem-jahrzehnt-12072077\n",
      "Reverse-Index-Zertifikate kaufen - so erzielen Sie Rendite gegen den Markttrend\n",
      "/nachricht/zertifikate/zertifikate-wissen-reverse-index-zertifikate-kaufen-so-erzielen-sie-rendite-gegen-den-markttrend-6404399\n"
     ]
    }
   ],
   "source": [
    "url = 'https://www.finanzen.net/nachrichten/sektor/banken-und-versicherungen'\n",
    "response = requests.get(url)\n",
    "soup = BeautifulSoup(response.text, \"html.parser\")\n",
    "articles = soup.find_all(\"article\", attrs = {\"class\":\"page-content__item margin-bottom-1.00\"})\n",
    "\n",
    "\n",
    "headline_urls = []\n",
    "\n",
    "for article in articles:\n",
    "    headline = article.find(\"h3\").text.encode('iso-8859-1')\n",
    "    print(headline.decode('utf-8'))\n",
    "    url = article.select(\".news__card\")[0]['href']\n",
    "    headline_urls.append(url)\n",
    "    print(url) "
   ]
  },
  {
   "cell_type": "code",
   "execution_count": 3,
   "id": "fe3d54d7-91d5-47fc-a508-257f6ac0187e",
   "metadata": {},
   "outputs": [],
   "source": [
    "#url = \"https://www.finanzen.net/nachricht/aktien/stifel-stuft-ab-deutsche-wohnen-vonovia-leg-aktie-und-co-immobilien-aktien-von-zinssorgen-belastet-12000469\"\n",
    "url = \"https://www.finanzen.net/nachricht/aktien/zweifel-bleiben-toyota-will-mit-neuer-strategie-abstand-zu-tesla-verringern-12025818\"\n",
    "#url = \"https://www.finanzen.net/nachricht/aktien/wirecard-skandal-wirecard-aktie-eindringliche-und-langwierige-befragung-von-wirecard-chef-braun-geplant-12043707\"\n",
    "page = requests.get(url)\n",
    "soup = BeautifulSoup(page.content, \"html.parser\")"
   ]
  },
  {
   "cell_type": "markdown",
   "id": "00d16fdb-42d8-49d0-b71e-8746c5145f4f",
   "metadata": {},
   "source": [
    "## Extracting the headline from the article"
   ]
  },
  {
   "cell_type": "code",
   "execution_count": 5,
   "id": "7fb99d5f-63fa-4a0d-b118-928780e3a2b7",
   "metadata": {},
   "outputs": [
    {
     "name": "stdout",
     "output_type": "stream",
     "text": [
      "Toyota will mit neuer Strategie Abstand zu Tesla verringern\n",
      "05.01.2023 23:17\n"
     ]
    }
   ],
   "source": [
    "headline = soup.find(\"h1\").text\n",
    "print(headline)\n",
    "\n",
    "publication_date = soup.find_all(\"div\", attrs = {\"class\":\"pull-left mright-20\"})[0].text\n",
    "print(publication_date)"
   ]
  },
  {
   "cell_type": "markdown",
   "id": "f94c7f88-3c1f-40f6-9109-1087228dc58c",
   "metadata": {},
   "source": [
    "## Getting the information from the teaser-snapshot¶"
   ]
  },
  {
   "cell_type": "code",
   "execution_count": 3,
   "id": "e9f7c2dd-24bf-4994-a463-55e43c6b000b",
   "metadata": {},
   "outputs": [
    {
     "data": {
      "text/plain": [
       "'Toyota will zum E-Auto-Pionier Tesla aufholen. Dazu will der japanische Autokonzern einem Medienbericht zufolge Anfang 2023 eine neue ehrgeizige Strategie präsentieren.'"
      ]
     },
     "execution_count": 3,
     "metadata": {},
     "output_type": "execute_result"
    }
   ],
   "source": [
    "teaser = soup.find_all(\"div\", attrs = {\"class\":\"teaser teaser-snapshot\"})\n",
    "teaser = teaser[0].find_all(\"div\")[-1].text\n",
    "teaser"
   ]
  },
  {
   "cell_type": "markdown",
   "id": "86c0b541-76b9-4786-9343-32d24bdbccae",
   "metadata": {},
   "source": [
    "## Main Content of the article"
   ]
  },
  {
   "cell_type": "code",
   "execution_count": 6,
   "id": "b0a4d026-83c7-4eff-923a-b3b33661e30a",
   "metadata": {},
   "outputs": [
    {
     "name": "stdout",
     "output_type": "stream",
     "text": [
      "• Toyota will im E-Automarkt aufholen\n",
      "\n",
      "• Neue Elektro-Strategie soll Anfang 2023 vorgestellt werden\n",
      "\n",
      "• Toyota-Präsident lehnt noch immer Festlegung auf eine Antriebsoption ab\n",
      "\n",
      "\n",
      "\n",
      "Toyota hat schon sehr früh teilelektrische Hybridmotoren eingeführt und erhielt dafür viel Lob von Umweltschützern. Doch dann hat sich der japanische Autobauer lange auf diesem Erfolg ausgeruht und erst Ende 2021 die Komplettumstellung auf reine E-Autos angekündigt. Um nun zu Tesla und anderen Konkurrenten im boomenden E-Automarkt aufzuschließen, überarbeitet Toyota anscheinend inzwischen seine Elektrostrategie deutlich. Nach \"Reuters\"-Informationen soll die neue Strategie im Februar 2023 den wichtigsten Zulieferern vorgestellt werden.\n",
      "\n",
      "Vorbild Tesla\n",
      "\n",
      "Ziel der neuen Strategie soll es sein, die künftigen E-Autos von Toyota nach dem Vorbild von Tesla leistungsfähiger und günstiger produzierbar zu machen. Um dies zu erreichen, soll die Entwicklung von Elektro-Fahrsystemen und -Motoren sowie Batterie- und Heiz/Kühl-Systemen schneller vorangetrieben werden. Dies werde Auswirkungen auf aktuelle Entwicklungsprogramme haben.\n",
      "\n",
      "Die Änderungen würden insbesondere die Nachfolger von Toyotas ersten beiden wichtigen E-Autos, die Modelle bZ4X und Lexus RZ, betreffen. Sie sollen dabei helfen, die Lücke zu Tesla zu schließen. Bei anderen EV-Entwicklungsprogrammen könnte es hingegen zu Verzögerungen kommen. So seien einige laufende Elektroauto-Projekte bereits auf Eis gelegt worden.\n",
      "\n",
      "Es werde wohl sogar in Erwägung gezogen, die erst drei Jahre alte Architektur e-TNGA aufzugeben, berichtet Reuters. Demnach könnte e-TNGA, bei der es sich um die Modifikation einer Plattform für benzingetriebene Fahrzeuge handelt, durch eine neuentwickelte Plattform ersetzt werden, die speziell auf E-Autos ausgelegt ist. Hintergrund sei, dass bei der Produktion von E-Autos mittels e-TNGA bestimmte wichtige Innovationen nur begrenzt umgesetzt werden können. Darüber hinaus wurde e-TNGA darauf ausgelegt, dass jährlich etwa 3,5 Millionen E-Autos damit produziert werden sollen. Doch laut aktuellen Branchen-Prognosen ist diese Annahme nicht mehr korrekt, stattdessen wird inzwischen mit einem schnelleren Wachstum gerechnet. \n",
      "\n",
      "Toyota-Präsident bleibt skeptisch\n",
      "\n",
      "Doch so ganz überzeugt von dem eingeschlagenen Weg ist die Toyota-Führung wohl nicht. So erklärte Toyota-Präsident Akio Toyoda laut dem \"Wall Street Journal\" (WSJ), man solle sich nicht nur auf eine Antriebsoption festlegen, denn auch wenn der allgemeine Trend derzeit hin zu Elektroautos gehe, so stehe die richtige Antwort noch immer nicht fest. Seine Zweifel würden im Übrigen insgeheim von einer \"schweigenden Mehrheit\" in der Autobranche geteilt, behauptet er ohne jedoch ins Detail zu gehen. Dabei haben sich bereits zahlreiche Konkurrenten darauf festgelegt, künftig ausschließlich oder fast nur noch E-Autos zu produzieren. Bereits in der Vergangenheit hatte sich der Enkel des Firmengründers mehrfach skeptisch zu batterieelektrischen Fahrzeugen geäußert und dabei auf hohe Kosten und CO2-Emissionen bei der Strom-Erzeugung verwiesen. \n",
      "\n",
      "Redaktion finanzen.netAusgewählte Hebelprodukte auf TeslaMit Knock-outs können spekulative Anleger überproportional an Kursbewegungen partizipieren. Wählen Sie einfach den gewünschten Hebel und wir zeigen Ihnen passende Open-End Produkte auf TeslaLongShortHebel wählen:5x10xDer Hebel muss zwischen 2 und 20 liegenNameHebelKOEmittentKeine DatenWeitere News zum Thema TeslaToyota stellt Pickup und SUV mit Wasserstoffantrieb vorToyota-Aktie: Erneute Senkung Jahresproduktion wegen ChipmangelsToyota mit Umsatzwachstum und überraschendem GewinneinbruchBildquellen: FotograFFF / Shutterstock.com\n"
     ]
    }
   ],
   "source": [
    "import io\n",
    "\n",
    "content = soup.find_all(\"div\", attrs = {\"class\":\"teaser teaser-xs color-news\"})\n",
    "buf = io.StringIO() \n",
    "#relevant2 = relevant[0].select(\"div p\")\n",
    "\n",
    "\n",
    "for element in content[0]:\n",
    "    #print(element.name)\n",
    "    if element.name == \"div\":\n",
    "        continue\n",
    "    buf.write(element.get_text().strip())#.replace(\"\\n\", \" \").replace(\"\\r\", \" \"))  \n",
    "    print(element.get_text().strip())\n",
    "    "
   ]
  },
  {
   "cell_type": "code",
   "execution_count": 5,
   "id": "e33f7110-a850-4f3a-b8ac-8d9a87a17efc",
   "metadata": {},
   "outputs": [
    {
     "data": {
      "text/plain": [
       "'• Toyota will im E-Automarkt aufholen• Neue Elektro-Strategie soll Anfang 2023 vorgestellt werden• Toyota-Präsident lehnt noch immer Festlegung auf eine Antriebsoption abToyota hat schon sehr früh teilelektrische Hybridmotoren eingeführt und erhielt dafür viel Lob von Umweltschützern. Doch dann hat sich der japanische Autobauer lange auf diesem Erfolg ausgeruht und erst Ende 2021 die Komplettumstellung auf reine E-Autos angekündigt. Um nun zu Tesla und anderen Konkurrenten im boomenden E-Automarkt aufzuschließen, überarbeitet Toyota anscheinend inzwischen seine Elektrostrategie deutlich. Nach \"Reuters\"-Informationen soll die neue Strategie im Februar 2023 den wichtigsten Zulieferern vorgestellt werden.\\r\\n\\nVorbild Tesla\\n\\r\\nZiel der neuen Strategie soll es sein, die künftigen E-Autos von Toyota nach dem Vorbild von Tesla leistungsfähiger und günstiger produzierbar zu machen. Um dies zu erreichen, soll die Entwicklung von Elektro-Fahrsystemen und -Motoren sowie Batterie- und Heiz/Kühl-Systemen schneller vorangetrieben werden. Dies werde Auswirkungen auf aktuelle Entwicklungsprogramme haben.\\r\\n\\r\\nDie Änderungen würden insbesondere die Nachfolger von Toyotas ersten beiden wichtigen E-Autos, die Modelle bZ4X und Lexus RZ, betreffen. Sie sollen dabei helfen, die Lücke zu Tesla zu schließen. Bei anderen EV-Entwicklungsprogrammen könnte es hingegen zu Verzögerungen kommen. So seien einige laufende Elektroauto-Projekte bereits auf Eis gelegt worden.\\r\\n\\r\\nEs werde wohl sogar in Erwägung gezogen, die erst drei Jahre alte Architektur e-TNGA aufzugeben, berichtet Reuters. Demnach könnte e-TNGA, bei der es sich um die Modifikation einer Plattform für benzingetriebene Fahrzeuge handelt, durch eine neuentwickelte Plattform ersetzt werden, die speziell auf E-Autos ausgelegt ist. Hintergrund sei, dass bei der Produktion von E-Autos mittels e-TNGA bestimmte wichtige Innovationen nur begrenzt umgesetzt werden können. Darüber hinaus wurde e-TNGA darauf ausgelegt, dass jährlich etwa 3,5 Millionen E-Autos damit produziert werden sollen. Doch laut aktuellen Branchen-Prognosen ist diese Annahme nicht mehr korrekt, stattdessen wird inzwischen mit einem schnelleren Wachstum gerechnet. \\r\\n\\nToyota-Präsident bleibt skeptisch\\n\\r\\nDoch so ganz überzeugt von dem eingeschlagenen Weg ist die Toyota-Führung wohl nicht. So erklärte Toyota-Präsident Akio Toyoda laut dem \"Wall Street Journal\" (WSJ), man solle sich nicht nur auf eine Antriebsoption festlegen, denn auch wenn der allgemeine Trend derzeit hin zu Elektroautos gehe, so stehe die richtige Antwort noch immer nicht fest. Seine Zweifel würden im Übrigen insgeheim von einer \"schweigenden Mehrheit\" in der Autobranche geteilt, behauptet er ohne jedoch ins Detail zu gehen. Dabei haben sich bereits zahlreiche Konkurrenten darauf festgelegt, künftig ausschließlich oder fast nur noch E-Autos zu produzieren. Bereits in der Vergangenheit hatte sich der Enkel des Firmengründers mehrfach skeptisch zu batterieelektrischen Fahrzeugen geäußert und dabei auf hohe Kosten und CO2-Emissionen bei der Strom-Erzeugung verwiesen. \\r\\n\\r\\nRedaktion finanzen.netAusgewählte Hebelprodukte auf TeslaMit Knock-outs können spekulative Anleger überproportional an Kursbewegungen partizipieren. Wählen Sie einfach den gewünschten Hebel und wir zeigen Ihnen passende Open-End Produkte auf TeslaLongShortHebel wählen:5x10xDer Hebel muss zwischen 2 und 20 liegenNameHebelKOEmittentKeine DatenWeitere News zum Thema TeslaToyota stellt Pickup und SUV mit Wasserstoffantrieb vorToyota-Aktie: Erneute Senkung Jahresproduktion wegen ChipmangelsToyota mit Umsatzwachstum und überraschendem GewinneinbruchBildquellen: FotograFFF / Shutterstock.com'"
      ]
     },
     "execution_count": 5,
     "metadata": {},
     "output_type": "execute_result"
    }
   ],
   "source": [
    "buf.getvalue()"
   ]
  },
  {
   "cell_type": "markdown",
   "id": "ffd62513-9417-4956-a202-9291a703d3ff",
   "metadata": {},
   "source": [
    "## Load Data in JSON-file\n",
    "Saving the articles in a JSON-file should simulate a MongoDB, which comes in the next step\n",
    "\n",
    "Below is a possible structure for future articles"
   ]
  },
  {
   "cell_type": "code",
   "execution_count": 6,
   "id": "ba8580a5-f748-4263-8c09-2830a7683b6f",
   "metadata": {},
   "outputs": [],
   "source": [
    "import json\n",
    "\n",
    "data = {\n",
    "'article_headline':headline,\n",
    "'publication_date': publication_date,\n",
    "'teaser-snapshot': teaser,\n",
    "'content': buf.getvalue()\n",
    "}"
   ]
  },
  {
   "cell_type": "code",
   "execution_count": 7,
   "id": "a6974944-76f8-4a21-8174-3b4af434dc88",
   "metadata": {},
   "outputs": [
    {
     "data": {
      "text/plain": [
       "{'article_headline': 'Toyota will mit neuer Strategie Abstand zu Tesla verringern',\n",
       " 'publication_date': '05.01.2023 21:10',\n",
       " 'teaser-snapshot': 'Toyota will zum E-Auto-Pionier Tesla aufholen. Dazu will der japanische Autokonzern einem Medienbericht zufolge Anfang 2023 eine neue ehrgeizige Strategie präsentieren.',\n",
       " 'content': '• Toyota will im E-Automarkt aufholen• Neue Elektro-Strategie soll Anfang 2023 vorgestellt werden• Toyota-Präsident lehnt noch immer Festlegung auf eine Antriebsoption abToyota hat schon sehr früh teilelektrische Hybridmotoren eingeführt und erhielt dafür viel Lob von Umweltschützern. Doch dann hat sich der japanische Autobauer lange auf diesem Erfolg ausgeruht und erst Ende 2021 die Komplettumstellung auf reine E-Autos angekündigt. Um nun zu Tesla und anderen Konkurrenten im boomenden E-Automarkt aufzuschließen, überarbeitet Toyota anscheinend inzwischen seine Elektrostrategie deutlich. Nach \"Reuters\"-Informationen soll die neue Strategie im Februar 2023 den wichtigsten Zulieferern vorgestellt werden.\\r\\n\\nVorbild Tesla\\n\\r\\nZiel der neuen Strategie soll es sein, die künftigen E-Autos von Toyota nach dem Vorbild von Tesla leistungsfähiger und günstiger produzierbar zu machen. Um dies zu erreichen, soll die Entwicklung von Elektro-Fahrsystemen und -Motoren sowie Batterie- und Heiz/Kühl-Systemen schneller vorangetrieben werden. Dies werde Auswirkungen auf aktuelle Entwicklungsprogramme haben.\\r\\n\\r\\nDie Änderungen würden insbesondere die Nachfolger von Toyotas ersten beiden wichtigen E-Autos, die Modelle bZ4X und Lexus RZ, betreffen. Sie sollen dabei helfen, die Lücke zu Tesla zu schließen. Bei anderen EV-Entwicklungsprogrammen könnte es hingegen zu Verzögerungen kommen. So seien einige laufende Elektroauto-Projekte bereits auf Eis gelegt worden.\\r\\n\\r\\nEs werde wohl sogar in Erwägung gezogen, die erst drei Jahre alte Architektur e-TNGA aufzugeben, berichtet Reuters. Demnach könnte e-TNGA, bei der es sich um die Modifikation einer Plattform für benzingetriebene Fahrzeuge handelt, durch eine neuentwickelte Plattform ersetzt werden, die speziell auf E-Autos ausgelegt ist. Hintergrund sei, dass bei der Produktion von E-Autos mittels e-TNGA bestimmte wichtige Innovationen nur begrenzt umgesetzt werden können. Darüber hinaus wurde e-TNGA darauf ausgelegt, dass jährlich etwa 3,5 Millionen E-Autos damit produziert werden sollen. Doch laut aktuellen Branchen-Prognosen ist diese Annahme nicht mehr korrekt, stattdessen wird inzwischen mit einem schnelleren Wachstum gerechnet. \\r\\n\\nToyota-Präsident bleibt skeptisch\\n\\r\\nDoch so ganz überzeugt von dem eingeschlagenen Weg ist die Toyota-Führung wohl nicht. So erklärte Toyota-Präsident Akio Toyoda laut dem \"Wall Street Journal\" (WSJ), man solle sich nicht nur auf eine Antriebsoption festlegen, denn auch wenn der allgemeine Trend derzeit hin zu Elektroautos gehe, so stehe die richtige Antwort noch immer nicht fest. Seine Zweifel würden im Übrigen insgeheim von einer \"schweigenden Mehrheit\" in der Autobranche geteilt, behauptet er ohne jedoch ins Detail zu gehen. Dabei haben sich bereits zahlreiche Konkurrenten darauf festgelegt, künftig ausschließlich oder fast nur noch E-Autos zu produzieren. Bereits in der Vergangenheit hatte sich der Enkel des Firmengründers mehrfach skeptisch zu batterieelektrischen Fahrzeugen geäußert und dabei auf hohe Kosten und CO2-Emissionen bei der Strom-Erzeugung verwiesen. \\r\\n\\r\\nRedaktion finanzen.netAusgewählte Hebelprodukte auf TeslaMit Knock-outs können spekulative Anleger überproportional an Kursbewegungen partizipieren. Wählen Sie einfach den gewünschten Hebel und wir zeigen Ihnen passende Open-End Produkte auf TeslaLongShortHebel wählen:5x10xDer Hebel muss zwischen 2 und 20 liegenNameHebelKOEmittentKeine DatenWeitere News zum Thema TeslaToyota stellt Pickup und SUV mit Wasserstoffantrieb vorToyota-Aktie: Erneute Senkung Jahresproduktion wegen ChipmangelsToyota mit Umsatzwachstum und überraschendem GewinneinbruchBildquellen: FotograFFF / Shutterstock.com'}"
      ]
     },
     "execution_count": 7,
     "metadata": {},
     "output_type": "execute_result"
    }
   ],
   "source": [
    "data"
   ]
  },
  {
   "cell_type": "code",
   "execution_count": 10,
   "id": "92ceb650-92c2-43f6-9771-4c60c0a37252",
   "metadata": {},
   "outputs": [],
   "source": [
    "with open (\"news/articles.json\",\"w\", encoding=\"utf-8\" ) as file:\n",
    "    json.dump(data, file)"
   ]
  },
  {
   "cell_type": "code",
   "execution_count": null,
   "id": "b42f8b54-9092-479a-856e-4a61ef536adf",
   "metadata": {},
   "outputs": [],
   "source": []
  }
 ],
 "metadata": {
  "kernelspec": {
   "display_name": "Python 3 (ipykernel)",
   "language": "python",
   "name": "python3"
  },
  "language_info": {
   "codemirror_mode": {
    "name": "ipython",
    "version": 3
   },
   "file_extension": ".py",
   "mimetype": "text/x-python",
   "name": "python",
   "nbconvert_exporter": "python",
   "pygments_lexer": "ipython3",
   "version": "3.9.7"
  }
 },
 "nbformat": 4,
 "nbformat_minor": 5
}

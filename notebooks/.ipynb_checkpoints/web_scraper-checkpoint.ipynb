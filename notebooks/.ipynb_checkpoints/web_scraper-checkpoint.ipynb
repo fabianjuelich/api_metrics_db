{
 "cells": [
  {
   "cell_type": "markdown",
   "id": "3f44d67f-aa37-43b8-9300-5842bfebb528",
   "metadata": {},
   "source": [
    "## Getting all the news cards for a specific industry"
   ]
  },
  {
   "cell_type": "code",
   "execution_count": 3,
   "id": "28552860-4e62-473c-84be-25de6fe719af",
   "metadata": {},
   "outputs": [],
   "source": [
    "import requests\n",
    "from bs4 import BeautifulSoup"
   ]
  },
  {
   "cell_type": "code",
   "execution_count": 60,
   "id": "b2c48ca5-45cf-44d8-b1d6-e8b940a2f4f6",
   "metadata": {},
   "outputs": [],
   "source": [
    "# all sectors provided by finanzen.net\n",
    "sectors = [\"automobile-und-verkehr\",\"banken-und-versicherungen\",'energie-und-rohstoffe','handel',\n",
    "            'immobilien','industrie','it-und-medien','konjunktur-und-wirtschaft','logistik',\n",
    "            'medizin-und-gesundheit']\n",
    "\n",
    "base_url = 'https://www.finanzen.net/nachrichten/sektor/'"
   ]
  },
  {
   "cell_type": "markdown",
   "id": "22934a69-651b-4a18-85b9-0ba1fc704d40",
   "metadata": {},
   "source": [
    "## This code would extract all articles for each sector\n",
    "Do not run this code without a proxy!!!"
   ]
  },
  {
   "cell_type": "code",
   "execution_count": 66,
   "id": "c239dec9-4134-4101-9bf5-f9bbb930949e",
   "metadata": {},
   "outputs": [
    {
     "name": "stdout",
     "output_type": "stream",
     "text": [
      "https://www.finanzen.net/nachrichten/sektor/automobile-und-verkehr\n",
      "https://www.finanzen.net/nachrichten/sektor/banken-und-versicherungen\n",
      "https://www.finanzen.net/nachrichten/sektor/energie-und-rohstoffe\n",
      "https://www.finanzen.net/nachrichten/sektor/handel\n",
      "https://www.finanzen.net/nachrichten/sektor/immobilien\n",
      "https://www.finanzen.net/nachrichten/sektor/industrie\n",
      "https://www.finanzen.net/nachrichten/sektor/it-und-medien\n",
      "https://www.finanzen.net/nachrichten/sektor/konjunktur-und-wirtschaft\n",
      "https://www.finanzen.net/nachrichten/sektor/logistik\n",
      "https://www.finanzen.net/nachrichten/sektor/medizin-und-gesundheit\n"
     ]
    }
   ],
   "source": [
    "for sector in sectors:\n",
    "    url = f\"{base_url}{sector}\"\n",
    "    response = requests.get(url)\n",
    "    secotor_articles(url)"
   ]
  },
  {
   "cell_type": "code",
   "execution_count": null,
   "id": "ab30fcbf-6685-43e5-9be8-1a5fcd22d6c8",
   "metadata": {},
   "outputs": [],
   "source": [
    "def sector_articles(sector_url):\n",
    "    response = requests.get(sector_url)\n",
    "    soup = BeautifulSoup(response.text, \"html.parser\")\n",
    "    \n",
    "    headline_urls = []\n",
    "\n",
    "    for article in articles:\n",
    "        headline = article.find(\"h3\").text.encode('iso-8859-1')\n",
    "        print(headline.decode('utf-8'))\n",
    "        url = article.select(\".news__card\")[0]['href']\n",
    "        headline_urls.append(url)\n",
    "        print(url) "
   ]
  },
  {
   "cell_type": "markdown",
   "id": "c5af72d0-45a7-4712-983b-fbda155d936f",
   "metadata": {},
   "source": [
    "# Run this code instead to test \n",
    "## Extract all links from the overview page for a specific sector"
   ]
  },
  {
   "cell_type": "code",
   "execution_count": 36,
   "id": "b7bb8fd9-28dc-4402-b8de-cf5bdb58963a",
   "metadata": {},
   "outputs": [
    {
     "data": {
      "text/plain": [
       "'Online-Seminar: Newstrading - Aktien-Daytrading-Strategien fÃ¼r BerufstÃ¤tige mit wenig Zeit'"
      ]
     },
     "execution_count": 36,
     "metadata": {},
     "output_type": "execute_result"
    }
   ],
   "source": [
    "# headlines are encoded in iso-8859-1\n",
    "articles[0].select(\".news__title\")[0].text"
   ]
  },
  {
   "cell_type": "code",
   "execution_count": 59,
   "id": "5bc341cf-c6e9-4564-9573-ebc1daa080ba",
   "metadata": {},
   "outputs": [
    {
     "name": "stdout",
     "output_type": "stream",
     "text": [
      "Online-Seminar: Newstrading - Aktien-Daytrading-Strategien für Berufstätige mit wenig Zeit\n",
      "/nachricht/trading/daytrading-leicht-gemacht-online-seminar-newstrading-aktien-daytrading-strategien-fuer-berufstaetige-mit-wenig-zeit-12034973\n",
      "Deutsche Bank-Aktie: Was Analysten von Deutsche Bank erwarten\n",
      "/nachricht/aktien/aktien-prognosen-deutsche-bank-aktie-was-analysten-von-deutsche-bank-erwarten-12033695\n",
      "Nach anfänglicher Kritik: Ein Umdenken gegenüber Bitcoin & Co in der Finanzbranche hat längst begonnen\n",
      "/nachricht/devisen/vermehrte-adaption-nach-anfaenglicher-kritik-ein-umdenken-gegenueber-bitcoin-co-in-der-finanzbranche-hat-laengst-begonnen-11738458\n",
      "7 Spartipps, die reich machen können\n",
      "/nachricht/private-finanzen/einfach-geld-sparen-7-spartipps-die-reich-machen-koennen-11216691\n",
      "Video: Finanztipps für junge Leute: Vom Haushaltsbuch über Festgeld zum ETF-Sparplan\n",
      "/nachricht/private-finanzen/sparen-im-jungen-alter-video-finanztipps-fuer-junge-leute-vom-haushaltsbuch-ueber-festgeld-zum-etf-sparplan-10948276\n",
      "Commerzbank-Aktie: Was Analysten von Commerzbank erwarten\n",
      "/nachricht/aktien/analystenmeinungen-commerzbank-aktie-was-analysten-von-commerzbank-erwarten-12033769\n",
      "Allianz-Aktie: Experten empfehlen Allianz im Dezember mehrheitlich zum Kauf\n",
      "/nachricht/aktien/kursziel-co-allianz-aktie-experten-empfehlen-allianz-im-dezember-mehrheitlich-zum-kauf-12033685\n",
      "Bankgebühren - wie Sie unzulässige Bankgebühren zurückfordern und vermeiden\n",
      "/nachricht/private-finanzen/kontofuehrungsgebuehren-co-bankgebuehren-wie-sie-unzulaessige-bankgebuehren-zurueckfordern-und-vermeiden-10473823\n",
      "BaFin mahnt Lebensversicherer wegen Inflation zur Umsicht\n",
      "/nachricht/aktien/bafin-mahnt-lebensversicherer-wegen-inflation-zur-umsicht-12046488\n",
      "Erfolgreich investieren - 7 goldene Regeln!\n",
      "/nachricht/private-finanzen/clever-geld-anlegen-erfolgreich-investieren-7-goldene-regeln-11207778\n",
      "Silvergate Capital-Aktie -42 Prozent: Silvergate Capital leidet unter Kundenansturm auf Einlagen - Coinbase-Aktie ebenfalls unter Druck\n",
      "/nachricht/aktien/nach-kryptocrash-silvergate-capital-aktie-42-prozent-silvergate-capital-leidet-unter-kundenansturm-auf-einlagen-coinbase-aktie-ebenfalls-unter-druck-12045016\n",
      "Standard Chartered-Aktie springt hoch: First Abu Dhabi Bank hat offenbar kein Interesse an Standard Chartered mehr\n",
      "/nachricht/aktien/keine-uebernahme-standard-chartered-aktie-springt-hoch-first-abu-dhabi-bank-hat-offenbar-kein-interesse-an-standard-chartered-mehr-12045304\n",
      "Tezos kaufen - Tipps und Tricks zum XTZ-Handel\n",
      "/nachricht/devisen/token-wallet-und-co-tezos-kaufen-tipps-und-tricks-zum-xtz-handel-10669601\n",
      "Bored Ape Yacht Club NFT - so funktioniert der Megatrend und so profitieren Sie als Anleger davon\n",
      "/nachricht/devisen/exklusive-cartoon-affen-bored-ape-yacht-club-nft-so-funktioniert-der-megatrend-und-so-profitieren-sie-als-anleger-davon-12037729\n",
      "Video: Hexensabbat einfach erklärt: Wie Anleger auf den Verfallstag reagieren sollten\n",
      "/nachricht/trading/boersenphaenomen-erklaert-video-hexensabbat-einfach-erklaert-wie-anleger-auf-den-verfallstag-reagieren-sollten-11440195\n",
      "Werbungskosten: Tipps und Tricks für die nächste Steuererklärung\n",
      "/nachricht/private-finanzen/wissenswertes-fuer-anleger-werbungskosten-tipps-und-tricks-fuer-die-naechste-steuererklaerung-8921179\n",
      "So starten Sie 2023 an der Börse durch\n",
      "/nachricht/aktien/so-starten-sie-2023-an-der-boerse-durch-12014639\n",
      "Video: Kurs-Gewinn-Verhältnis berechnen - Wie Anleger das Aktien-KGV berechnen und so Aktien bewerten!\n",
      "/nachricht/aktien/chancenreiche-aktien-video-kurs-gewinn-verhaeltnis-berechnen-wie-anleger-das-aktien-kgv-berechnen-und-so-aktien-bewerten-10934171\n",
      "Online-Seminar: Die Anlageklasse Kunst - was Sie wissen müssen, um erfolgreich zu investieren\n",
      "/nachricht/trading/neue-investmentideen-online-seminar-die-anlageklasse-kunst-was-sie-wissen-muessen-um-erfolgreich-zu-investieren-12034972\n",
      "Baufinanzierung Vergleich: Mit der besten Immobilienfinanzierung Haus und Wohnung günstig finanzieren\n",
      "/nachricht/private-finanzen/immobilienkredite-im-fokus-baufinanzierung-vergleich-mit-der-besten-immobilienfinanzierung-haus-und-wohnung-guenstig-finanzieren-7417375\n",
      "Faktor-Zertifikate: Auf kurzfristige Preisveränderungen setzen\n",
      "/nachricht/zertifikate/zertifikate-wissen-faktor-zertifikate-auf-kurzfristige-preisveraenderungen-setzen-5578388\n",
      "Auslandskrankenversicherung im Test - für 10 Euro sorglos in den Urlaub\n",
      "/nachricht/private-finanzen/im-ernstfall-abgesichert-auslandskrankenversicherung-im-test-fuer-10-euro-sorglos-in-den-urlaub-7319517\n",
      "Ratgeber-Video: Mit einem ETF-Sparplan an der Börse Geld verdienen - so geht's!\n",
      "/nachricht/etf/etf-sparplan-einrichten-ratgeber-video-mit-einem-etf-sparplan-an-der-boerse-geld-verdienen-so-geht-s-9077314\n",
      "Gas-Notfallplan - wie Sie sich jetzt auf den Ernstfall vorbereiten können\n",
      "/nachricht/rohstoffe/tipps-fuer-verbraucher-gas-notfallplan-wie-sie-sich-jetzt-auf-den-ernstfall-vorbereiten-koennen-11534061\n",
      "Video: Portfolio-Diversifikation - das Home Bias-Phänomen und wie Anleger ein Portfolio diversifizieren!\n",
      "/nachricht/private-finanzen/depot-diversifizieren-video-portfolio-diversifikation-das-home-bias-phaenomen-und-wie-anleger-ein-portfolio-diversifizieren-11159337\n",
      "Energiespartipps - wie Verbraucher auf hohe Gaspreise und steigende Ölpreise reagieren können\n",
      "/nachricht/private-finanzen/mit-wenig-aufwand-sparen-energiespartipps-wie-verbraucher-auf-hohe-gaspreise-und-steigende-oelpreise-reagieren-koennen-11166957\n",
      "Express-Zertifikate machen hohe Renditen möglich\n",
      "/nachricht/zertifikate/zertifikate-wissen-express-zertifikate-machen-hohe-renditen-moeglich-5578361\n",
      "Video: Megatrends E-Mobilität und autonomes Fahren - wie Anleger Tesla, BYD & Co. am besten in ihr Depot holen\n",
      "/nachricht/etf/aktien-etfs-und-zertifikate-video-megatrends-e-mobilitaet-und-autonomes-fahren-wie-anleger-tesla-byd-co-am-besten-in-ihr-depot-holen-10044966\n",
      "Aktien-Tipps - wie Sie erfolgreich in Aktien investieren können\n",
      "/nachricht/private-finanzen/boerse-fuer-anfaenger-aktien-tipps-wie-sie-erfolgreich-in-aktien-investieren-koennen-11673840\n",
      "Wirecard-Aktie: Eindringliche und langwierige Befragung von Wirecard-Chef Braun geplant\n",
      "/nachricht/aktien/wirecard-skandal-wirecard-aktie-eindringliche-und-langwierige-befragung-von-wirecard-chef-braun-geplant-12043707\n",
      "klimaVest Erfahrungen: der ethische Fonds im Test\n",
      "/nachricht/private-finanzen/klimavest-im-test-klimavest-erfahrungen-der-ethische-fonds-im-test-10948381\n",
      "Bonitätsabhängige Schuldverschreibungen - so finden Sie die besten Bonitätsanleihen\n",
      "/nachricht/zertifikate/schuldverschreibung-bonitaetsabhaengige-schuldverschreibungen-so-finden-sie-die-besten-bonitaetsanleihen-8200134\n",
      "Was Sie über Bonus-Zertifikate wissen sollten\n",
      "/nachricht/zertifikate/zertifikate-wissen-was-sie-ueber-bonus-zertifikate-wissen-sollten-5578297\n",
      "Arbeitslosengeld beantragen - Bezugsdauer, Höhe und wie Sie den Antrag auf ALG 1 stellen\n",
      "/nachricht/private-finanzen/so-viel-zahlt-der-staat-arbeitslosengeld-beantragen-bezugsdauer-hoehe-und-wie-sie-den-antrag-auf-alg-1-stellen-7307756\n",
      "8 wichtige Tipps zum Vermögensaufbau mit Investmentfonds\n",
      "/nachricht/fonds/fonds-kaufen-8-wichtige-tipps-zum-vermoegensaufbau-mit-investmentfonds-4745175\n",
      "Discount-Index - so funktioniert der Zertifikate-Index, die besten Tipps\n",
      "/nachricht/zertifikate/index-fuer-discount-zertis-discount-index-so-funktioniert-der-zertifikate-index-die-besten-tipps-11439886\n",
      "Video: Wie Anleger und Sparer auf das Risiko Rezession reagieren sollten!\n",
      "/nachricht/private-finanzen/drohende-rezession-video-wie-anleger-und-sparer-auf-das-risiko-rezession-reagieren-sollten-11629766\n",
      "Sprint-Zertifikate handeln - so finden Anleger die besten Zertifikate\n",
      "/nachricht/zertifikate/handel-mit-sprintzertifikate-sprint-zertifikate-handeln-so-finden-anleger-die-besten-zertifikate-8201417\n",
      "Die beste Altersvorsorge: Alterssicherung von Aktien bis Rentenversicherung\n",
      "/nachricht/private-finanzen/geldsorgen-vermeiden-die-beste-altersvorsorge-alterssicherung-von-aktien-bis-rentenversicherung-8021180\n",
      "Decentraland kaufen - Tipps und Tricks zum MANA-Handel\n",
      "/nachricht/devisen/vr-im-metaversum-decentraland-kaufen-tipps-und-tricks-zum-mana-handel-11663720\n",
      "Danske Bank-Aktie in Rot: US-Richter akzeptiert Schuldbekenntnis und Milliardenstrafe in Geldwäsche-Skandal\n",
      "/nachricht/aktien/verschwoerung-zum-bankbetrug-danske-bank-aktie-in-rot-us-richter-akzeptiert-schuldbekenntnis-und-milliardenstrafe-in-geldwaesche-skandal-12046613\n",
      "Die besten Immobilienfonds zum Vermögensaufbau\n",
      "/nachricht/fonds/immofonds-vergleich-die-besten-immobilienfonds-zum-vermoegensaufbau-6453066\n",
      "Video: Steuern sparen beim Aktienhandel - mit Freibetrag und Steuererklärung Geld zurückholen\n",
      "/nachricht/private-finanzen/steuererklaerung-video-steuern-sparen-beim-aktienhandel-mit-freibetrag-und-steuererklaerung-geld-zurueckholen-9076920\n",
      "Aktienanleihen-Index - so funktioniert der Zertifikate-Index, die besten Tipps\n",
      "/nachricht/zertifikate/index-fuer-aktienanleihen-aktienanleihen-index-so-funktioniert-der-zertifikate-index-die-besten-tipps-11439878\n",
      "Fondsdiscount - Fonds ohne Ausgabeaufschlag\n",
      "/nachricht/fonds/fondskauf-mit-rabatt-fondsdiscount-fonds-ohne-ausgabeaufschlag-4791381\n",
      "Video: Rendite steigern mit Ökofonds, nachhaltigen ETFs und grünen Aktien - so geht's!\n",
      "/nachricht/fonds/nachhaltig-investieren-video-rendite-steigern-mit-oekofonds-nachhaltigen-etfs-und-gruenen-aktien-so-geht-s-9795830\n",
      "Video: 7 Arten von Fonds, die Anleger kennen sollten\n",
      "/nachricht/etf/fonds-im-vergleich-video-7-arten-von-fonds-die-anleger-kennen-sollten-12040484\n",
      "Trade Republic: Alternativen zum Neobroker im Test\n",
      "/nachricht/private-finanzen/anbieter-unter-der-lupe-trade-republic-alternativen-zum-neobroker-im-test-11374747\n",
      "Steigende Bauzinsen beflügeln Nachfrage nach Bausparverträgen\n",
      "/nachricht/aktien/steigende-bauzinsen-befluegeln-nachfrage-nach-bausparvertraegen-12042995\n",
      "Trading lernen - die besten Tipps zum Einstieg ins Daytrading\n",
      "/nachricht/private-finanzen/boersen-einsteiger-aufgepasst-trading-lernen-die-besten-tipps-zum-einstieg-ins-daytrading-10969751\n"
     ]
    }
   ],
   "source": [
    "url = 'https://www.finanzen.net/nachrichten/sektor/banken-und-versicherungen'\n",
    "response = requests.get(url)\n",
    "soup = BeautifulSoup(response.text, \"html.parser\")\n",
    "articles = soup.find_all(\"article\", attrs = {\"class\":\"page-content__item margin-bottom-1.00\"})\n",
    "\n",
    "\n",
    "headline_urls = []\n",
    "\n",
    "for article in articles:\n",
    "    headline = article.find(\"h3\").text.encode('iso-8859-1')\n",
    "    print(headline.decode('utf-8'))\n",
    "    url = article.select(\".news__card\")[0]['href']\n",
    "    headline_urls.append(url)\n",
    "    print(url) "
   ]
  },
  {
   "cell_type": "code",
   "execution_count": 1,
   "id": "fe3d54d7-91d5-47fc-a508-257f6ac0187e",
   "metadata": {},
   "outputs": [],
   "source": [
    "#url = \"https://www.finanzen.net/nachricht/aktien/stifel-stuft-ab-deutsche-wohnen-vonovia-leg-aktie-und-co-immobilien-aktien-von-zinssorgen-belastet-12000469\"\n",
    "url = \"https://www.finanzen.net/nachricht/aktien/zweifel-bleiben-toyota-will-mit-neuer-strategie-abstand-zu-tesla-verringern-12025818\"\n",
    "#url = \"https://www.finanzen.net/nachricht/aktien/wirecard-skandal-wirecard-aktie-eindringliche-und-langwierige-befragung-von-wirecard-chef-braun-geplant-12043707\"\n",
    "page = requests.get(url)\n",
    "soup = BeautifulSoup(page.content, \"html.parser\")"
   ]
  },
  {
   "cell_type": "markdown",
   "id": "00d16fdb-42d8-49d0-b71e-8746c5145f4f",
   "metadata": {},
   "source": [
    "## Extracting the headline from the article"
   ]
  },
  {
   "cell_type": "code",
   "execution_count": 2,
   "id": "7fb99d5f-63fa-4a0d-b118-928780e3a2b7",
   "metadata": {},
   "outputs": [
    {
     "name": "stdout",
     "output_type": "stream",
     "text": [
      "Toyota will mit neuer Strategie Abstand zu Tesla verringern\n",
      "05.01.2023 21:10\n"
     ]
    }
   ],
   "source": [
    "headline = soup.find(\"h1\").text\n",
    "print(headline)\n",
    "\n",
    "publication_date = soup.find_all(\"div\", attrs = {\"class\":\"pull-left mright-20\"})[0].text\n",
    "print(publication_date)"
   ]
  },
  {
   "cell_type": "markdown",
   "id": "f94c7f88-3c1f-40f6-9109-1087228dc58c",
   "metadata": {},
   "source": [
    "## Getting the information from the teaser-snapshot¶"
   ]
  },
  {
   "cell_type": "code",
   "execution_count": 3,
   "id": "e9f7c2dd-24bf-4994-a463-55e43c6b000b",
   "metadata": {},
   "outputs": [
    {
     "data": {
      "text/plain": [
       "'Toyota will zum E-Auto-Pionier Tesla aufholen. Dazu will der japanische Autokonzern einem Medienbericht zufolge Anfang 2023 eine neue ehrgeizige Strategie präsentieren.'"
      ]
     },
     "execution_count": 3,
     "metadata": {},
     "output_type": "execute_result"
    }
   ],
   "source": [
    "teaser = soup.find_all(\"div\", attrs = {\"class\":\"teaser teaser-snapshot\"})\n",
    "teaser = teaser[0].find_all(\"div\")[-1].text\n",
    "teaser"
   ]
  },
  {
   "cell_type": "markdown",
   "id": "86c0b541-76b9-4786-9343-32d24bdbccae",
   "metadata": {},
   "source": [
    "## Main Content of the article"
   ]
  },
  {
   "cell_type": "code",
   "execution_count": 4,
   "id": "b0a4d026-83c7-4eff-923a-b3b33661e30a",
   "metadata": {},
   "outputs": [
    {
     "name": "stdout",
     "output_type": "stream",
     "text": [
      "• Toyota will im E-Automarkt aufholen\n",
      "\n",
      "• Neue Elektro-Strategie soll Anfang 2023 vorgestellt werden\n",
      "\n",
      "• Toyota-Präsident lehnt noch immer Festlegung auf eine Antriebsoption ab\n",
      "\n",
      "\n",
      "\n",
      "Toyota hat schon sehr früh teilelektrische Hybridmotoren eingeführt und erhielt dafür viel Lob von Umweltschützern. Doch dann hat sich der japanische Autobauer lange auf diesem Erfolg ausgeruht und erst Ende 2021 die Komplettumstellung auf reine E-Autos angekündigt. Um nun zu Tesla und anderen Konkurrenten im boomenden E-Automarkt aufzuschließen, überarbeitet Toyota anscheinend inzwischen seine Elektrostrategie deutlich. Nach \"Reuters\"-Informationen soll die neue Strategie im Februar 2023 den wichtigsten Zulieferern vorgestellt werden.\n",
      "\n",
      "Vorbild Tesla\n",
      "\n",
      "Ziel der neuen Strategie soll es sein, die künftigen E-Autos von Toyota nach dem Vorbild von Tesla leistungsfähiger und günstiger produzierbar zu machen. Um dies zu erreichen, soll die Entwicklung von Elektro-Fahrsystemen und -Motoren sowie Batterie- und Heiz/Kühl-Systemen schneller vorangetrieben werden. Dies werde Auswirkungen auf aktuelle Entwicklungsprogramme haben.\n",
      "\n",
      "Die Änderungen würden insbesondere die Nachfolger von Toyotas ersten beiden wichtigen E-Autos, die Modelle bZ4X und Lexus RZ, betreffen. Sie sollen dabei helfen, die Lücke zu Tesla zu schließen. Bei anderen EV-Entwicklungsprogrammen könnte es hingegen zu Verzögerungen kommen. So seien einige laufende Elektroauto-Projekte bereits auf Eis gelegt worden.\n",
      "\n",
      "Es werde wohl sogar in Erwägung gezogen, die erst drei Jahre alte Architektur e-TNGA aufzugeben, berichtet Reuters. Demnach könnte e-TNGA, bei der es sich um die Modifikation einer Plattform für benzingetriebene Fahrzeuge handelt, durch eine neuentwickelte Plattform ersetzt werden, die speziell auf E-Autos ausgelegt ist. Hintergrund sei, dass bei der Produktion von E-Autos mittels e-TNGA bestimmte wichtige Innovationen nur begrenzt umgesetzt werden können. Darüber hinaus wurde e-TNGA darauf ausgelegt, dass jährlich etwa 3,5 Millionen E-Autos damit produziert werden sollen. Doch laut aktuellen Branchen-Prognosen ist diese Annahme nicht mehr korrekt, stattdessen wird inzwischen mit einem schnelleren Wachstum gerechnet. \n",
      "\n",
      "Toyota-Präsident bleibt skeptisch\n",
      "\n",
      "Doch so ganz überzeugt von dem eingeschlagenen Weg ist die Toyota-Führung wohl nicht. So erklärte Toyota-Präsident Akio Toyoda laut dem \"Wall Street Journal\" (WSJ), man solle sich nicht nur auf eine Antriebsoption festlegen, denn auch wenn der allgemeine Trend derzeit hin zu Elektroautos gehe, so stehe die richtige Antwort noch immer nicht fest. Seine Zweifel würden im Übrigen insgeheim von einer \"schweigenden Mehrheit\" in der Autobranche geteilt, behauptet er ohne jedoch ins Detail zu gehen. Dabei haben sich bereits zahlreiche Konkurrenten darauf festgelegt, künftig ausschließlich oder fast nur noch E-Autos zu produzieren. Bereits in der Vergangenheit hatte sich der Enkel des Firmengründers mehrfach skeptisch zu batterieelektrischen Fahrzeugen geäußert und dabei auf hohe Kosten und CO2-Emissionen bei der Strom-Erzeugung verwiesen. \n",
      "\n",
      "Redaktion finanzen.netAusgewählte Hebelprodukte auf TeslaMit Knock-outs können spekulative Anleger überproportional an Kursbewegungen partizipieren. Wählen Sie einfach den gewünschten Hebel und wir zeigen Ihnen passende Open-End Produkte auf TeslaLongShortHebel wählen:5x10xDer Hebel muss zwischen 2 und 20 liegenNameHebelKOEmittentKeine DatenWeitere News zum Thema TeslaToyota stellt Pickup und SUV mit Wasserstoffantrieb vorToyota-Aktie: Erneute Senkung Jahresproduktion wegen ChipmangelsToyota mit Umsatzwachstum und überraschendem GewinneinbruchBildquellen: FotograFFF / Shutterstock.com\n"
     ]
    }
   ],
   "source": [
    "import io\n",
    "\n",
    "content = soup.find_all(\"div\", attrs = {\"class\":\"teaser teaser-xs color-news\"})\n",
    "buf = io.StringIO() \n",
    "#relevant2 = relevant[0].select(\"div p\")\n",
    "\n",
    "\n",
    "for element in content[0]:\n",
    "    #print(element.name)\n",
    "    if element.name == \"div\":\n",
    "        continue\n",
    "    buf.write(element.get_text().strip())#.replace(\"\\n\", \" \").replace(\"\\r\", \" \"))  \n",
    "    print(element.get_text().strip())\n",
    "    "
   ]
  },
  {
   "cell_type": "code",
   "execution_count": 5,
   "id": "e33f7110-a850-4f3a-b8ac-8d9a87a17efc",
   "metadata": {},
   "outputs": [
    {
     "data": {
      "text/plain": [
       "'• Toyota will im E-Automarkt aufholen• Neue Elektro-Strategie soll Anfang 2023 vorgestellt werden• Toyota-Präsident lehnt noch immer Festlegung auf eine Antriebsoption abToyota hat schon sehr früh teilelektrische Hybridmotoren eingeführt und erhielt dafür viel Lob von Umweltschützern. Doch dann hat sich der japanische Autobauer lange auf diesem Erfolg ausgeruht und erst Ende 2021 die Komplettumstellung auf reine E-Autos angekündigt. Um nun zu Tesla und anderen Konkurrenten im boomenden E-Automarkt aufzuschließen, überarbeitet Toyota anscheinend inzwischen seine Elektrostrategie deutlich. Nach \"Reuters\"-Informationen soll die neue Strategie im Februar 2023 den wichtigsten Zulieferern vorgestellt werden.\\r\\n\\nVorbild Tesla\\n\\r\\nZiel der neuen Strategie soll es sein, die künftigen E-Autos von Toyota nach dem Vorbild von Tesla leistungsfähiger und günstiger produzierbar zu machen. Um dies zu erreichen, soll die Entwicklung von Elektro-Fahrsystemen und -Motoren sowie Batterie- und Heiz/Kühl-Systemen schneller vorangetrieben werden. Dies werde Auswirkungen auf aktuelle Entwicklungsprogramme haben.\\r\\n\\r\\nDie Änderungen würden insbesondere die Nachfolger von Toyotas ersten beiden wichtigen E-Autos, die Modelle bZ4X und Lexus RZ, betreffen. Sie sollen dabei helfen, die Lücke zu Tesla zu schließen. Bei anderen EV-Entwicklungsprogrammen könnte es hingegen zu Verzögerungen kommen. So seien einige laufende Elektroauto-Projekte bereits auf Eis gelegt worden.\\r\\n\\r\\nEs werde wohl sogar in Erwägung gezogen, die erst drei Jahre alte Architektur e-TNGA aufzugeben, berichtet Reuters. Demnach könnte e-TNGA, bei der es sich um die Modifikation einer Plattform für benzingetriebene Fahrzeuge handelt, durch eine neuentwickelte Plattform ersetzt werden, die speziell auf E-Autos ausgelegt ist. Hintergrund sei, dass bei der Produktion von E-Autos mittels e-TNGA bestimmte wichtige Innovationen nur begrenzt umgesetzt werden können. Darüber hinaus wurde e-TNGA darauf ausgelegt, dass jährlich etwa 3,5 Millionen E-Autos damit produziert werden sollen. Doch laut aktuellen Branchen-Prognosen ist diese Annahme nicht mehr korrekt, stattdessen wird inzwischen mit einem schnelleren Wachstum gerechnet. \\r\\n\\nToyota-Präsident bleibt skeptisch\\n\\r\\nDoch so ganz überzeugt von dem eingeschlagenen Weg ist die Toyota-Führung wohl nicht. So erklärte Toyota-Präsident Akio Toyoda laut dem \"Wall Street Journal\" (WSJ), man solle sich nicht nur auf eine Antriebsoption festlegen, denn auch wenn der allgemeine Trend derzeit hin zu Elektroautos gehe, so stehe die richtige Antwort noch immer nicht fest. Seine Zweifel würden im Übrigen insgeheim von einer \"schweigenden Mehrheit\" in der Autobranche geteilt, behauptet er ohne jedoch ins Detail zu gehen. Dabei haben sich bereits zahlreiche Konkurrenten darauf festgelegt, künftig ausschließlich oder fast nur noch E-Autos zu produzieren. Bereits in der Vergangenheit hatte sich der Enkel des Firmengründers mehrfach skeptisch zu batterieelektrischen Fahrzeugen geäußert und dabei auf hohe Kosten und CO2-Emissionen bei der Strom-Erzeugung verwiesen. \\r\\n\\r\\nRedaktion finanzen.netAusgewählte Hebelprodukte auf TeslaMit Knock-outs können spekulative Anleger überproportional an Kursbewegungen partizipieren. Wählen Sie einfach den gewünschten Hebel und wir zeigen Ihnen passende Open-End Produkte auf TeslaLongShortHebel wählen:5x10xDer Hebel muss zwischen 2 und 20 liegenNameHebelKOEmittentKeine DatenWeitere News zum Thema TeslaToyota stellt Pickup und SUV mit Wasserstoffantrieb vorToyota-Aktie: Erneute Senkung Jahresproduktion wegen ChipmangelsToyota mit Umsatzwachstum und überraschendem GewinneinbruchBildquellen: FotograFFF / Shutterstock.com'"
      ]
     },
     "execution_count": 5,
     "metadata": {},
     "output_type": "execute_result"
    }
   ],
   "source": [
    "buf.getvalue()"
   ]
  },
  {
   "cell_type": "markdown",
   "id": "ffd62513-9417-4956-a202-9291a703d3ff",
   "metadata": {},
   "source": [
    "## Load Data in JSON-file\n",
    "Saving the articles in a JSON-file should simulate a MongoDB, which comes in the next step\n",
    "\n",
    "Below is a possible structure for future articles"
   ]
  },
  {
   "cell_type": "code",
   "execution_count": 6,
   "id": "ba8580a5-f748-4263-8c09-2830a7683b6f",
   "metadata": {},
   "outputs": [],
   "source": [
    "import json\n",
    "\n",
    "data = {\n",
    "'article_headline':headline,\n",
    "'publication_date': publication_date,\n",
    "'teaser-snapshot': teaser,\n",
    "'content': buf.getvalue()\n",
    "}"
   ]
  },
  {
   "cell_type": "code",
   "execution_count": 7,
   "id": "a6974944-76f8-4a21-8174-3b4af434dc88",
   "metadata": {},
   "outputs": [
    {
     "data": {
      "text/plain": [
       "{'article_headline': 'Toyota will mit neuer Strategie Abstand zu Tesla verringern',\n",
       " 'publication_date': '05.01.2023 21:10',\n",
       " 'teaser-snapshot': 'Toyota will zum E-Auto-Pionier Tesla aufholen. Dazu will der japanische Autokonzern einem Medienbericht zufolge Anfang 2023 eine neue ehrgeizige Strategie präsentieren.',\n",
       " 'content': '• Toyota will im E-Automarkt aufholen• Neue Elektro-Strategie soll Anfang 2023 vorgestellt werden• Toyota-Präsident lehnt noch immer Festlegung auf eine Antriebsoption abToyota hat schon sehr früh teilelektrische Hybridmotoren eingeführt und erhielt dafür viel Lob von Umweltschützern. Doch dann hat sich der japanische Autobauer lange auf diesem Erfolg ausgeruht und erst Ende 2021 die Komplettumstellung auf reine E-Autos angekündigt. Um nun zu Tesla und anderen Konkurrenten im boomenden E-Automarkt aufzuschließen, überarbeitet Toyota anscheinend inzwischen seine Elektrostrategie deutlich. Nach \"Reuters\"-Informationen soll die neue Strategie im Februar 2023 den wichtigsten Zulieferern vorgestellt werden.\\r\\n\\nVorbild Tesla\\n\\r\\nZiel der neuen Strategie soll es sein, die künftigen E-Autos von Toyota nach dem Vorbild von Tesla leistungsfähiger und günstiger produzierbar zu machen. Um dies zu erreichen, soll die Entwicklung von Elektro-Fahrsystemen und -Motoren sowie Batterie- und Heiz/Kühl-Systemen schneller vorangetrieben werden. Dies werde Auswirkungen auf aktuelle Entwicklungsprogramme haben.\\r\\n\\r\\nDie Änderungen würden insbesondere die Nachfolger von Toyotas ersten beiden wichtigen E-Autos, die Modelle bZ4X und Lexus RZ, betreffen. Sie sollen dabei helfen, die Lücke zu Tesla zu schließen. Bei anderen EV-Entwicklungsprogrammen könnte es hingegen zu Verzögerungen kommen. So seien einige laufende Elektroauto-Projekte bereits auf Eis gelegt worden.\\r\\n\\r\\nEs werde wohl sogar in Erwägung gezogen, die erst drei Jahre alte Architektur e-TNGA aufzugeben, berichtet Reuters. Demnach könnte e-TNGA, bei der es sich um die Modifikation einer Plattform für benzingetriebene Fahrzeuge handelt, durch eine neuentwickelte Plattform ersetzt werden, die speziell auf E-Autos ausgelegt ist. Hintergrund sei, dass bei der Produktion von E-Autos mittels e-TNGA bestimmte wichtige Innovationen nur begrenzt umgesetzt werden können. Darüber hinaus wurde e-TNGA darauf ausgelegt, dass jährlich etwa 3,5 Millionen E-Autos damit produziert werden sollen. Doch laut aktuellen Branchen-Prognosen ist diese Annahme nicht mehr korrekt, stattdessen wird inzwischen mit einem schnelleren Wachstum gerechnet. \\r\\n\\nToyota-Präsident bleibt skeptisch\\n\\r\\nDoch so ganz überzeugt von dem eingeschlagenen Weg ist die Toyota-Führung wohl nicht. So erklärte Toyota-Präsident Akio Toyoda laut dem \"Wall Street Journal\" (WSJ), man solle sich nicht nur auf eine Antriebsoption festlegen, denn auch wenn der allgemeine Trend derzeit hin zu Elektroautos gehe, so stehe die richtige Antwort noch immer nicht fest. Seine Zweifel würden im Übrigen insgeheim von einer \"schweigenden Mehrheit\" in der Autobranche geteilt, behauptet er ohne jedoch ins Detail zu gehen. Dabei haben sich bereits zahlreiche Konkurrenten darauf festgelegt, künftig ausschließlich oder fast nur noch E-Autos zu produzieren. Bereits in der Vergangenheit hatte sich der Enkel des Firmengründers mehrfach skeptisch zu batterieelektrischen Fahrzeugen geäußert und dabei auf hohe Kosten und CO2-Emissionen bei der Strom-Erzeugung verwiesen. \\r\\n\\r\\nRedaktion finanzen.netAusgewählte Hebelprodukte auf TeslaMit Knock-outs können spekulative Anleger überproportional an Kursbewegungen partizipieren. Wählen Sie einfach den gewünschten Hebel und wir zeigen Ihnen passende Open-End Produkte auf TeslaLongShortHebel wählen:5x10xDer Hebel muss zwischen 2 und 20 liegenNameHebelKOEmittentKeine DatenWeitere News zum Thema TeslaToyota stellt Pickup und SUV mit Wasserstoffantrieb vorToyota-Aktie: Erneute Senkung Jahresproduktion wegen ChipmangelsToyota mit Umsatzwachstum und überraschendem GewinneinbruchBildquellen: FotograFFF / Shutterstock.com'}"
      ]
     },
     "execution_count": 7,
     "metadata": {},
     "output_type": "execute_result"
    }
   ],
   "source": [
    "data"
   ]
  },
  {
   "cell_type": "code",
   "execution_count": 10,
   "id": "92ceb650-92c2-43f6-9771-4c60c0a37252",
   "metadata": {},
   "outputs": [],
   "source": [
    "with open (\"news/articles.json\",\"w\", encoding=\"utf-8\" ) as file:\n",
    "    json.dump(data, file)"
   ]
  },
  {
   "cell_type": "code",
   "execution_count": null,
   "id": "b42f8b54-9092-479a-856e-4a61ef536adf",
   "metadata": {},
   "outputs": [],
   "source": []
  }
 ],
 "metadata": {
  "kernelspec": {
   "display_name": "Python 3 (ipykernel)",
   "language": "python",
   "name": "python3"
  },
  "language_info": {
   "codemirror_mode": {
    "name": "ipython",
    "version": 3
   },
   "file_extension": ".py",
   "mimetype": "text/x-python",
   "name": "python",
   "nbconvert_exporter": "python",
   "pygments_lexer": "ipython3",
   "version": "3.9.7"
  }
 },
 "nbformat": 4,
 "nbformat_minor": 5
}
